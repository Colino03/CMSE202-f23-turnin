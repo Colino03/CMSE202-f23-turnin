{
 "cells": [
  {
   "cell_type": "markdown",
   "metadata": {},
   "source": [
    "# Homework Assignment 3\n",
    "## Regression models"
   ]
  },
  {
   "cell_type": "markdown",
   "metadata": {},
   "source": [
    "### <p style=\"text-align: right;\"> &#9989; Colin Bonnema </p>\n",
    "### <p style=\"text-align: right;\"> &#9989; Colino03</p>"
   ]
  },
  {
   "cell_type": "markdown",
   "metadata": {},
   "source": [
    "### Goal for this homework assignment\n",
    "By now, you have learned a bit about regression models. In this assignment, you will practice:\n",
    "\n",
    "* Using branches in Git\n",
    "* Performing linear regression\n",
    "* Performing multiple regression\n",
    "* Performing logistic regression\n",
    "\n",
    "**This assignment is due by 11:59 pm on Friday, November 10th.** It should be uploaded into the \"Homework Assignments\" submission folder for Homework 3.  Submission instructions can be found at the end of the notebook. **There are 79 standard points possible in this assignment. The distribution of points can be found in the section headers**.\n"
   ]
  },
  {
   "cell_type": "markdown",
   "metadata": {},
   "source": [
    "---\n",
    "## Part 1: Git Branch (6 points)\n",
    "\n",
    "<img src=\"https://as2.ftcdn.net/v2/jpg/02/31/83/69/1000_F_231836961_dt3tbN1MKbVRGz0RLSnWuC0U8MFeLx8o.jpg\" width=300px align=\"right\" style=\"margin-left: 20px\">\n",
    "\n",
    "For this assignment, you're going to add it to the `cmse202-f23-turnin` repository you created in class so that you can track your progress on the assignment and preserve the final version that you turn in. In order to do this you need to\n",
    "\n",
    "**&#9989; Do the following**:\n",
    "\n",
    "1. Navigate to your `cmse202-f23-turnin` **local** repository and create a new directory called `hw-03`\n",
    "\n",
    "2. Move this notebook into that **new directory** in your repository, but **do not** add or commit it to your repository yet.\n",
    "\n",
    "3. Create a **new branch** called `hw03_branch` (The Day 16 PCA and ICA content has information on how to do this).\n",
    "\n",
    "4. \"Check out\" the new branch (so that you'll be working on that branch). \n",
    "\n",
    "5. Double check to make sure you are actually on that branch.\n",
    "\n",
    "6. Once you're certain you're working on your new branch, add this notebook to your repository, then make a commit and push it to GitHub. You may need to use `git push origin hw03_branch` to push your new branch to GitHub.\n",
    "\n",
    "Finally, &#9989; **Do this**: Before you move on, put the command that your instructor should run to clone your repository in the markdown cell below."
   ]
  },
  {
   "cell_type": "markdown",
   "metadata": {},
   "source": [
    "<font size=6 color=\"#009600\">&#9998;</font> git clone https://github.com/Colino03/CMSE202-f23-turnin.git"
   ]
  },
  {
   "cell_type": "markdown",
   "metadata": {},
   "source": [
    "**Important**: Double check you've added your Professor and your TA as collaborators to your \"turnin\" repository (you should have done this in the previous homework assignment).\n",
    "\n",
    "**Also important**: Make sure that the version of this notebook that you are working on is the same one that you just added to your repository! If you are working on a different copy of the notebook, **none of your changes will be tracked**!\n",
    "\n",
    "If everything went as intended, the file should now show up on your GitHub account in the \"`cmse202-f23-turnin`\" repository inside the `hw-03` directory that you just created within the new branch `hw03-branch`.\n",
    "\n",
    "Periodically, **you'll be asked to commit your changes to the repository and push them to the remote GitHub location**. Of course, you can always commit your changes more often than that, if you wish.  It can be good to get into a habit of committing your changes any time you make a significant modification, or when you stop working on the project for a bit.\n"
   ]
  },
  {
   "cell_type": "markdown",
   "metadata": {},
   "source": [
    "---\n",
    "## Part 2: Loading the Palmer Penguins Dataset (9 points)\n",
    "\n",
    "<img src=\"https://allisonhorst.github.io/palmerpenguins/reference/figures/lter_penguins.png\" width=400px align=\"right\" style=\"margin-left: 20px\" alt=\"The Palmer Penguis, image credit: https://allisonhorst.github.io/palmerpenguins/\">\n",
    "\n",
    "For the vast majority of this homework, you'll be working with the Palmer Penguins dataset, which contains measurements of three species of penguins (Adélie, Chinstrap, and Gentoo) collected by Dr. Kristen Gorman and the Palmer Station, Antarctica LTER, a member of the Long Term Ecological Research Network. \n",
    "\n",
    "Note, that while Parts 3, 4, and 5 are designed to be workable independent of each other, you'll definitely want to finish Part 2 before attempting Parts 3, 4, or 5. To get started on Part 2, **you'll need to download the following file**:\n",
    "\n",
    "`https://raw.githubusercontent.com/msu-cmse-courses/cmse202-supplemental-data/main/data/penguins_size.csv`\n",
    "\n",
    "&#9989; **Question 2.1 (1 point)**: **Do this:** Save the `penguins.csv` file in the same directory as your notebook. **Then, in the cell below, put the command line command(s) you used to download the file.** If you did not use a command line tool to download the file, write down the command(s) that *would* have downloaded the file."
   ]
  },
  {
   "cell_type": "markdown",
   "metadata": {},
   "source": [
    "``` bash\n",
    "# !curl https://raw.githubusercontent.com/msu-cmse-courses/cmse202-supplemental-data/main/data/penguins_size.csv -O\n",
    "```"
   ]
  },
  {
   "cell_type": "code",
   "execution_count": 2,
   "metadata": {},
   "outputs": [
    {
     "name": "stdout",
     "output_type": "stream",
     "text": [
      "  % Total    % Received % Xferd  Average Speed   Time    Time     Time  Current\r\n",
      "                                 Dload  Upload   Total   Spent    Left  Speed\r\n",
      "\r",
      "  0     0    0     0    0     0      0      0 --:--:-- --:--:-- --:--:--     0\r",
      "100 13515  100 13515    0     0   573k      0 --:--:-- --:--:-- --:--:--  599k\r\n"
     ]
    }
   ],
   "source": [
    "!curl https://raw.githubusercontent.com/msu-cmse-courses/cmse202-supplemental-data/main/data/penguins_size.csv -O"
   ]
  },
  {
   "cell_type": "markdown",
   "metadata": {},
   "source": [
    "&#9989;  **Question 2.2 (2 points)**: Next, load the data into a Pandas DataFrame and display the first and last 5 rows. "
   ]
  },
  {
   "cell_type": "code",
   "execution_count": 6,
   "metadata": {},
   "outputs": [
    {
     "name": "stdout",
     "output_type": "stream",
     "text": [
      "   species     island  bill_length_mm  bill_depth_mm  flipper_length_mm  \\\n",
      "0   Adelie  Torgersen            39.1           18.7              181.0   \n",
      "1   Adelie  Torgersen            39.5           17.4              186.0   \n",
      "2   Adelie  Torgersen            40.3           18.0              195.0   \n",
      "3   Adelie  Torgersen             NaN            NaN                NaN   \n",
      "4   Adelie  Torgersen            36.7           19.3              193.0   \n",
      "5   Adelie  Torgersen            39.3           20.6              190.0   \n",
      "6   Adelie  Torgersen            38.9           17.8              181.0   \n",
      "7   Adelie  Torgersen            39.2           19.6              195.0   \n",
      "8   Adelie  Torgersen            34.1           18.1              193.0   \n",
      "9   Adelie  Torgersen            42.0           20.2              190.0   \n",
      "10  Adelie  Torgersen            37.8           17.1              186.0   \n",
      "11  Adelie  Torgersen            37.8           17.3              180.0   \n",
      "12  Adelie  Torgersen            41.1           17.6              182.0   \n",
      "13  Adelie  Torgersen            38.6           21.2              191.0   \n",
      "14  Adelie  Torgersen            34.6           21.1              198.0   \n",
      "\n",
      "    body_mass_g     sex  \n",
      "0        3750.0    MALE  \n",
      "1        3800.0  FEMALE  \n",
      "2        3250.0  FEMALE  \n",
      "3           NaN     NaN  \n",
      "4        3450.0  FEMALE  \n",
      "5        3650.0    MALE  \n",
      "6        3625.0  FEMALE  \n",
      "7        4675.0    MALE  \n",
      "8        3475.0     NaN  \n",
      "9        4250.0     NaN  \n",
      "10       3300.0     NaN  \n",
      "11       3700.0     NaN  \n",
      "12       3200.0  FEMALE  \n",
      "13       3800.0    MALE  \n",
      "14       4400.0    MALE  \n"
     ]
    }
   ],
   "source": [
    "import pandas as pd\n",
    "penguins_size = pd.read_csv(\"penguins_size.csv\")\n",
    "result = penguins_size.head(15)\n",
    "print(result)"
   ]
  },
  {
   "cell_type": "markdown",
   "metadata": {},
   "source": [
    "&#9989;  **Question 2.3 (2 points)**: You should notice that a few of rows have `NaN` values. Some penguins don't like to stay still long enough to be measured <(\"). Drop these rows from the DataFrame and redisplay the dataframe to show that these rows were removed."
   ]
  },
  {
   "cell_type": "code",
   "execution_count": 10,
   "metadata": {},
   "outputs": [
    {
     "name": "stdout",
     "output_type": "stream",
     "text": [
      "   species     island  bill_length_mm  bill_depth_mm  flipper_length_mm  \\\n",
      "0   Adelie  Torgersen            39.1           18.7              181.0   \n",
      "1   Adelie  Torgersen            39.5           17.4              186.0   \n",
      "2   Adelie  Torgersen            40.3           18.0              195.0   \n",
      "4   Adelie  Torgersen            36.7           19.3              193.0   \n",
      "5   Adelie  Torgersen            39.3           20.6              190.0   \n",
      "6   Adelie  Torgersen            38.9           17.8              181.0   \n",
      "7   Adelie  Torgersen            39.2           19.6              195.0   \n",
      "12  Adelie  Torgersen            41.1           17.6              182.0   \n",
      "13  Adelie  Torgersen            38.6           21.2              191.0   \n",
      "14  Adelie  Torgersen            34.6           21.1              198.0   \n",
      "15  Adelie  Torgersen            36.6           17.8              185.0   \n",
      "16  Adelie  Torgersen            38.7           19.0              195.0   \n",
      "17  Adelie  Torgersen            42.5           20.7              197.0   \n",
      "18  Adelie  Torgersen            34.4           18.4              184.0   \n",
      "19  Adelie  Torgersen            46.0           21.5              194.0   \n",
      "\n",
      "    body_mass_g     sex  \n",
      "0        3750.0    MALE  \n",
      "1        3800.0  FEMALE  \n",
      "2        3250.0  FEMALE  \n",
      "4        3450.0  FEMALE  \n",
      "5        3650.0    MALE  \n",
      "6        3625.0  FEMALE  \n",
      "7        4675.0    MALE  \n",
      "12       3200.0  FEMALE  \n",
      "13       3800.0    MALE  \n",
      "14       4400.0    MALE  \n",
      "15       3700.0  FEMALE  \n",
      "16       3450.0  FEMALE  \n",
      "17       4500.0    MALE  \n",
      "18       3325.0  FEMALE  \n",
      "19       4200.0    MALE  \n"
     ]
    }
   ],
   "source": [
    "penguins_size_na = penguins_size.dropna()\n",
    "result = penguins_size_na.head(15)\n",
    "print(result)"
   ]
  },
  {
   "cell_type": "markdown",
   "metadata": {},
   "source": [
    "&#9989;  **Question 2.4 (4 points)**: Recall that this dataset has data on three different species of penguins. Although all three species are from the genus Pygoscelis, they are in fact very different. \n",
    "\n",
    "**Do This:** Split the data into three new DataFrames, one with just the rows with Adélie penguins, one with just the rows with Chinstrap penguins, and one with just the rows with Gentoo penguins. Display at least one of these DataFrames to convince yourself that your code worked."
   ]
  },
  {
   "cell_type": "code",
   "execution_count": 13,
   "metadata": {},
   "outputs": [
    {
     "data": {
      "text/html": [
       "<div>\n",
       "<style scoped>\n",
       "    .dataframe tbody tr th:only-of-type {\n",
       "        vertical-align: middle;\n",
       "    }\n",
       "\n",
       "    .dataframe tbody tr th {\n",
       "        vertical-align: top;\n",
       "    }\n",
       "\n",
       "    .dataframe thead th {\n",
       "        text-align: right;\n",
       "    }\n",
       "</style>\n",
       "<table border=\"1\" class=\"dataframe\">\n",
       "  <thead>\n",
       "    <tr style=\"text-align: right;\">\n",
       "      <th></th>\n",
       "      <th>species</th>\n",
       "      <th>island</th>\n",
       "      <th>bill_length_mm</th>\n",
       "      <th>bill_depth_mm</th>\n",
       "      <th>flipper_length_mm</th>\n",
       "      <th>body_mass_g</th>\n",
       "      <th>sex</th>\n",
       "    </tr>\n",
       "  </thead>\n",
       "  <tbody>\n",
       "    <tr>\n",
       "      <th>220</th>\n",
       "      <td>Gentoo</td>\n",
       "      <td>Biscoe</td>\n",
       "      <td>46.1</td>\n",
       "      <td>13.2</td>\n",
       "      <td>211.0</td>\n",
       "      <td>4500.0</td>\n",
       "      <td>FEMALE</td>\n",
       "    </tr>\n",
       "    <tr>\n",
       "      <th>221</th>\n",
       "      <td>Gentoo</td>\n",
       "      <td>Biscoe</td>\n",
       "      <td>50.0</td>\n",
       "      <td>16.3</td>\n",
       "      <td>230.0</td>\n",
       "      <td>5700.0</td>\n",
       "      <td>MALE</td>\n",
       "    </tr>\n",
       "    <tr>\n",
       "      <th>222</th>\n",
       "      <td>Gentoo</td>\n",
       "      <td>Biscoe</td>\n",
       "      <td>48.7</td>\n",
       "      <td>14.1</td>\n",
       "      <td>210.0</td>\n",
       "      <td>4450.0</td>\n",
       "      <td>FEMALE</td>\n",
       "    </tr>\n",
       "    <tr>\n",
       "      <th>223</th>\n",
       "      <td>Gentoo</td>\n",
       "      <td>Biscoe</td>\n",
       "      <td>50.0</td>\n",
       "      <td>15.2</td>\n",
       "      <td>218.0</td>\n",
       "      <td>5700.0</td>\n",
       "      <td>MALE</td>\n",
       "    </tr>\n",
       "    <tr>\n",
       "      <th>224</th>\n",
       "      <td>Gentoo</td>\n",
       "      <td>Biscoe</td>\n",
       "      <td>47.6</td>\n",
       "      <td>14.5</td>\n",
       "      <td>215.0</td>\n",
       "      <td>5400.0</td>\n",
       "      <td>MALE</td>\n",
       "    </tr>\n",
       "    <tr>\n",
       "      <th>...</th>\n",
       "      <td>...</td>\n",
       "      <td>...</td>\n",
       "      <td>...</td>\n",
       "      <td>...</td>\n",
       "      <td>...</td>\n",
       "      <td>...</td>\n",
       "      <td>...</td>\n",
       "    </tr>\n",
       "    <tr>\n",
       "      <th>338</th>\n",
       "      <td>Gentoo</td>\n",
       "      <td>Biscoe</td>\n",
       "      <td>47.2</td>\n",
       "      <td>13.7</td>\n",
       "      <td>214.0</td>\n",
       "      <td>4925.0</td>\n",
       "      <td>FEMALE</td>\n",
       "    </tr>\n",
       "    <tr>\n",
       "      <th>340</th>\n",
       "      <td>Gentoo</td>\n",
       "      <td>Biscoe</td>\n",
       "      <td>46.8</td>\n",
       "      <td>14.3</td>\n",
       "      <td>215.0</td>\n",
       "      <td>4850.0</td>\n",
       "      <td>FEMALE</td>\n",
       "    </tr>\n",
       "    <tr>\n",
       "      <th>341</th>\n",
       "      <td>Gentoo</td>\n",
       "      <td>Biscoe</td>\n",
       "      <td>50.4</td>\n",
       "      <td>15.7</td>\n",
       "      <td>222.0</td>\n",
       "      <td>5750.0</td>\n",
       "      <td>MALE</td>\n",
       "    </tr>\n",
       "    <tr>\n",
       "      <th>342</th>\n",
       "      <td>Gentoo</td>\n",
       "      <td>Biscoe</td>\n",
       "      <td>45.2</td>\n",
       "      <td>14.8</td>\n",
       "      <td>212.0</td>\n",
       "      <td>5200.0</td>\n",
       "      <td>FEMALE</td>\n",
       "    </tr>\n",
       "    <tr>\n",
       "      <th>343</th>\n",
       "      <td>Gentoo</td>\n",
       "      <td>Biscoe</td>\n",
       "      <td>49.9</td>\n",
       "      <td>16.1</td>\n",
       "      <td>213.0</td>\n",
       "      <td>5400.0</td>\n",
       "      <td>MALE</td>\n",
       "    </tr>\n",
       "  </tbody>\n",
       "</table>\n",
       "<p>120 rows × 7 columns</p>\n",
       "</div>"
      ],
      "text/plain": [
       "    species  island  bill_length_mm  bill_depth_mm  flipper_length_mm  \\\n",
       "220  Gentoo  Biscoe            46.1           13.2              211.0   \n",
       "221  Gentoo  Biscoe            50.0           16.3              230.0   \n",
       "222  Gentoo  Biscoe            48.7           14.1              210.0   \n",
       "223  Gentoo  Biscoe            50.0           15.2              218.0   \n",
       "224  Gentoo  Biscoe            47.6           14.5              215.0   \n",
       "..      ...     ...             ...            ...                ...   \n",
       "338  Gentoo  Biscoe            47.2           13.7              214.0   \n",
       "340  Gentoo  Biscoe            46.8           14.3              215.0   \n",
       "341  Gentoo  Biscoe            50.4           15.7              222.0   \n",
       "342  Gentoo  Biscoe            45.2           14.8              212.0   \n",
       "343  Gentoo  Biscoe            49.9           16.1              213.0   \n",
       "\n",
       "     body_mass_g     sex  \n",
       "220       4500.0  FEMALE  \n",
       "221       5700.0    MALE  \n",
       "222       4450.0  FEMALE  \n",
       "223       5700.0    MALE  \n",
       "224       5400.0    MALE  \n",
       "..           ...     ...  \n",
       "338       4925.0  FEMALE  \n",
       "340       4850.0  FEMALE  \n",
       "341       5750.0    MALE  \n",
       "342       5200.0  FEMALE  \n",
       "343       5400.0    MALE  \n",
       "\n",
       "[120 rows x 7 columns]"
      ]
     },
     "execution_count": 13,
     "metadata": {},
     "output_type": "execute_result"
    }
   ],
   "source": [
    "mask = penguins_size_na['species'] == \"Adelie\"\n",
    "Adelie = penguins_size_na[mask]\n",
    "Adelie\n",
    "mask1 = penguins_size_na['species'] == \"Chinstrap\"\n",
    "Chinstrap = penguins_size_na[mask1]\n",
    "Chinstrap\n",
    "mask2 = penguins_size_na['species'] == \"Gentoo\"\n",
    "Gentoo = penguins_size_na[mask2]\n",
    "Gentoo"
   ]
  },
  {
   "cell_type": "markdown",
   "metadata": {},
   "source": [
    "---\n",
    "### &#128721; STOP\n",
    "**Pause to commit your changes to your Git repository!**\n",
    "\n",
    "Take a moment to save your notebook, commit the changes to your local `git` repository using the commit message \"Part 2 complete\", and push the changes to GitHub.\n",
    "\n",
    "---"
   ]
  },
  {
   "cell_type": "markdown",
   "metadata": {},
   "source": [
    "---\n",
    "## Part 3: One Variable Linear Regression (26 points)\n",
    "\n",
    "In this part, we'll perform some one-variable linear regression analysis on the penguin data.\n",
    "\n",
    "&#9989;  **Question 3.1 (3 points)**: Using the `OLS` method in `statsmodels`, perform a linear regression to predict a penguin's body mass using its bill depth and **display the results summary**. Remember that you may need to use the `add_constant()` method to make sure `OLS` fits a general line $y = ax+b$ to the data instead of a line through the origin $y = ax$. \n",
    "\n",
    "**For this problem, make sure that you're using the full penguin dataset, not just the dataframe for a single species.**"
   ]
  },
  {
   "cell_type": "code",
   "execution_count": 16,
   "metadata": {},
   "outputs": [
    {
     "name": "stdout",
     "output_type": "stream",
     "text": [
      "     const  bill_depth_mm\n",
      "0      1.0           18.7\n",
      "1      1.0           17.4\n",
      "2      1.0           18.0\n",
      "4      1.0           19.3\n",
      "5      1.0           20.6\n",
      "..     ...            ...\n",
      "338    1.0           13.7\n",
      "340    1.0           14.3\n",
      "341    1.0           15.7\n",
      "342    1.0           14.8\n",
      "343    1.0           16.1\n",
      "\n",
      "[334 rows x 2 columns]\n",
      "Intercept and slope are: const            7528.620530\n",
      "bill_depth_mm    -193.442365\n",
      "dtype: float64\n",
      "                            OLS Regression Results                            \n",
      "==============================================================================\n",
      "Dep. Variable:            body_mass_g   R-squared:                       0.224\n",
      "Model:                            OLS   Adj. R-squared:                  0.221\n",
      "Method:                 Least Squares   F-statistic:                     95.68\n",
      "Date:                Fri, 10 Nov 2023   Prob (F-statistic):           5.07e-20\n",
      "Time:                        13:48:59   Log-Likelihood:                -2665.8\n",
      "No. Observations:                 334   AIC:                             5336.\n",
      "Df Residuals:                     332   BIC:                             5343.\n",
      "Df Model:                           1                                         \n",
      "Covariance Type:            nonrobust                                         \n",
      "=================================================================================\n",
      "                    coef    std err          t      P>|t|      [0.025      0.975]\n",
      "---------------------------------------------------------------------------------\n",
      "const          7528.6205    341.587     22.040      0.000    6856.673    8200.568\n",
      "bill_depth_mm  -193.4424     19.776     -9.782      0.000    -232.345    -154.540\n",
      "==============================================================================\n",
      "Omnibus:                        7.861   Durbin-Watson:                   2.295\n",
      "Prob(Omnibus):                  0.020   Jarque-Bera (JB):                5.993\n",
      "Skew:                           0.220   Prob(JB):                       0.0500\n",
      "Kurtosis:                       2.513   Cond. No.                         152.\n",
      "==============================================================================\n",
      "\n",
      "Notes:\n",
      "[1] Standard Errors assume that the covariance matrix of the errors is correctly specified.\n"
     ]
    }
   ],
   "source": [
    "import matplotlib.pyplot as plt\n",
    "import pandas as pd\n",
    "import numpy as np\n",
    "import random\n",
    "import statsmodels.api as sm\n",
    "from IPython.display import HTML\n",
    "x_with_cnst = sm.add_constant(penguins_size_na['bill_depth_mm'])\n",
    "print(x_with_cnst)\n",
    "model = sm.OLS(penguins_size_na['body_mass_g'], x_with_cnst)\n",
    "results = model.fit()\n",
    "print(\"Intercept and slope are:\", results.params)\n",
    "print(results.summary() )"
   ]
  },
  {
   "cell_type": "markdown",
   "metadata": {},
   "source": [
    "&#9989;  **Question 3.2 (3 points)**: Answer the following questions: \n",
    "\n",
    "1. What was the equation of the best fit linear relationship between a penguin's body mass and its bill depth?\n",
    "\n",
    "2. As a penguin's bill depth increases, does its body mass increase or decrease? What tells you this?\n",
    "\n",
    "3. Based on the $p$-value for the bill depth, is the relationship you found between a penguin's body mass and bill depth statistically significant? Justify yor answer."
   ]
  },
  {
   "cell_type": "markdown",
   "metadata": {},
   "source": [
    "<font size=+3>&#9998;</font> Put your answers here:\n",
    "1. Equation: y = -193.442365x + 7528.62053 (with x being bill depth and y being body mass of a penguin)\n",
    "2. As the bill depth increases, the body mass decreases. This is shown by the equation having a negative slope. This is not consistent with the split data per species however.\n",
    "3. the p-value appears to be zero, meaning that the relationship is statistically significant because it is below a standard 5% confidence level"
   ]
  },
  {
   "cell_type": "markdown",
   "metadata": {},
   "source": [
    "&#9989;  **Question 3.3 (6 points, 2 points per part)**: Now, let's repeat the linear regression, but for each species separately.  It will likely help you later in this question to make sure that the variable names for the OLS model and OLS results are different for each species. That way, you won't overwrite one model with another.\n",
    "\n",
    "&#9989;  **Question 3.3.Adélie (2 points)**: Using the `OLS` method in `statsmodels`, perform a linear regression to predict an  **Adélie** penguin's body mass using its bill depth and display the results summary."
   ]
  },
  {
   "cell_type": "code",
   "execution_count": 21,
   "metadata": {},
   "outputs": [
    {
     "name": "stdout",
     "output_type": "stream",
     "text": [
      "     const  bill_depth_mm\n",
      "0      1.0           18.7\n",
      "1      1.0           17.4\n",
      "2      1.0           18.0\n",
      "4      1.0           19.3\n",
      "5      1.0           20.6\n",
      "..     ...            ...\n",
      "147    1.0           18.4\n",
      "148    1.0           17.8\n",
      "149    1.0           18.1\n",
      "150    1.0           17.1\n",
      "151    1.0           18.5\n",
      "\n",
      "[146 rows x 2 columns]\n",
      "Intercept and slope are: const           -297.382944\n",
      "bill_depth_mm    218.209546\n",
      "dtype: float64\n",
      "                            OLS Regression Results                            \n",
      "==============================================================================\n",
      "Dep. Variable:            body_mass_g   R-squared:                       0.337\n",
      "Model:                            OLS   Adj. R-squared:                  0.332\n",
      "Method:                 Least Squares   F-statistic:                     73.06\n",
      "Date:                Fri, 10 Nov 2023   Prob (F-statistic):           1.67e-14\n",
      "Time:                        13:56:21   Log-Likelihood:                -1071.4\n",
      "No. Observations:                 146   AIC:                             2147.\n",
      "Df Residuals:                     144   BIC:                             2153.\n",
      "Df Model:                           1                                         \n",
      "Covariance Type:            nonrobust                                         \n",
      "=================================================================================\n",
      "                    coef    std err          t      P>|t|      [0.025      0.975]\n",
      "---------------------------------------------------------------------------------\n",
      "const          -297.3829    469.422     -0.634      0.527   -1225.231     630.465\n",
      "bill_depth_mm   218.2095     25.529      8.547      0.000     167.749     268.670\n",
      "==============================================================================\n",
      "Omnibus:                        4.410   Durbin-Watson:                   2.326\n",
      "Prob(Omnibus):                  0.110   Jarque-Bera (JB):                4.401\n",
      "Skew:                           0.422   Prob(JB):                        0.111\n",
      "Kurtosis:                       2.889   Cond. No.                         279.\n",
      "==============================================================================\n",
      "\n",
      "Notes:\n",
      "[1] Standard Errors assume that the covariance matrix of the errors is correctly specified.\n"
     ]
    }
   ],
   "source": [
    "x_with_cnst1 = sm.add_constant(Adelie['bill_depth_mm'])\n",
    "print(x_with_cnst1)\n",
    "model1 = sm.OLS(Adelie['body_mass_g'], x_with_cnst1)\n",
    "results1 = model1.fit()\n",
    "print(\"Intercept and slope are:\", results1.params)\n",
    "print(results1.summary() )"
   ]
  },
  {
   "cell_type": "markdown",
   "metadata": {},
   "source": [
    "&#9989;  **Question 3.3.Chinstrap (2 points)**: Using the `OLS` method in `statsmodels`, perform a linear regression to predict a  **Chinstrap** penguin's body mass using its bill depth and display the results summary."
   ]
  },
  {
   "cell_type": "code",
   "execution_count": 20,
   "metadata": {},
   "outputs": [
    {
     "name": "stdout",
     "output_type": "stream",
     "text": [
      "     const  bill_depth_mm\n",
      "152    1.0           17.9\n",
      "153    1.0           19.5\n",
      "154    1.0           19.2\n",
      "155    1.0           18.7\n",
      "156    1.0           19.8\n",
      "..     ...            ...\n",
      "215    1.0           19.8\n",
      "216    1.0           18.1\n",
      "217    1.0           18.2\n",
      "218    1.0           19.0\n",
      "219    1.0           18.7\n",
      "\n",
      "[68 rows x 2 columns]\n",
      "Intercept and slope are: const            -36.219191\n",
      "bill_depth_mm    204.624705\n",
      "dtype: float64\n",
      "                            OLS Regression Results                            \n",
      "==============================================================================\n",
      "Dep. Variable:            body_mass_g   R-squared:                       0.365\n",
      "Model:                            OLS   Adj. R-squared:                  0.356\n",
      "Method:                 Least Squares   F-statistic:                     38.01\n",
      "Date:                Fri, 10 Nov 2023   Prob (F-statistic):           4.79e-08\n",
      "Time:                        13:56:01   Log-Likelihood:                -485.22\n",
      "No. Observations:                  68   AIC:                             974.4\n",
      "Df Residuals:                      66   BIC:                             978.9\n",
      "Df Model:                           1                                         \n",
      "Covariance Type:            nonrobust                                         \n",
      "=================================================================================\n",
      "                    coef    std err          t      P>|t|      [0.025      0.975]\n",
      "---------------------------------------------------------------------------------\n",
      "const           -36.2192    612.561     -0.059      0.953   -1259.238    1186.799\n",
      "bill_depth_mm   204.6247     33.192      6.165      0.000     138.355     270.895\n",
      "==============================================================================\n",
      "Omnibus:                        0.100   Durbin-Watson:                   2.542\n",
      "Prob(Omnibus):                  0.951   Jarque-Bera (JB):                0.019\n",
      "Skew:                           0.035   Prob(JB):                        0.990\n",
      "Kurtosis:                       2.955   Cond. No.                         303.\n",
      "==============================================================================\n",
      "\n",
      "Notes:\n",
      "[1] Standard Errors assume that the covariance matrix of the errors is correctly specified.\n"
     ]
    }
   ],
   "source": [
    "x_with_cnst2 = sm.add_constant(Chinstrap['bill_depth_mm'])\n",
    "print(x_with_cnst2)\n",
    "model2 = sm.OLS(Chinstrap['body_mass_g'], x_with_cnst2)\n",
    "results2 = model2.fit()\n",
    "print(\"Intercept and slope are:\", results2.params)\n",
    "print(results2.summary() )"
   ]
  },
  {
   "cell_type": "markdown",
   "metadata": {},
   "source": [
    "&#9989;  **Question 3.3.Gentoo (2 points)**: Using the `OLS` method in `statsmodels`, perform a linear regression to predict a  **Gentoo** penguin's body mass using its bill depth and display the results summary."
   ]
  },
  {
   "cell_type": "code",
   "execution_count": 19,
   "metadata": {},
   "outputs": [
    {
     "name": "stdout",
     "output_type": "stream",
     "text": [
      "     const  bill_depth_mm\n",
      "220    1.0           13.2\n",
      "221    1.0           16.3\n",
      "222    1.0           14.1\n",
      "223    1.0           15.2\n",
      "224    1.0           14.5\n",
      "..     ...            ...\n",
      "338    1.0           13.7\n",
      "340    1.0           14.3\n",
      "341    1.0           15.7\n",
      "342    1.0           14.8\n",
      "343    1.0           16.1\n",
      "\n",
      "[120 rows x 2 columns]\n",
      "Intercept and slope are: const           -382.544587\n",
      "bill_depth_mm    364.817170\n",
      "dtype: float64\n",
      "                            OLS Regression Results                            \n",
      "==============================================================================\n",
      "Dep. Variable:            body_mass_g   R-squared:                       0.516\n",
      "Model:                            OLS   Adj. R-squared:                  0.512\n",
      "Method:                 Least Squares   F-statistic:                     125.8\n",
      "Date:                Fri, 10 Nov 2023   Prob (F-statistic):           2.61e-20\n",
      "Time:                        13:55:37   Log-Likelihood:                -871.94\n",
      "No. Observations:                 120   AIC:                             1748.\n",
      "Df Residuals:                     118   BIC:                             1753.\n",
      "Df Model:                           1                                         \n",
      "Covariance Type:            nonrobust                                         \n",
      "=================================================================================\n",
      "                    coef    std err          t      P>|t|      [0.025      0.975]\n",
      "---------------------------------------------------------------------------------\n",
      "const          -382.5446    489.106     -0.782      0.436   -1351.107     586.018\n",
      "bill_depth_mm   364.8172     32.532     11.214      0.000     300.394     429.240\n",
      "==============================================================================\n",
      "Omnibus:                        5.552   Durbin-Watson:                   2.529\n",
      "Prob(Omnibus):                  0.062   Jarque-Bera (JB):                5.143\n",
      "Skew:                           0.498   Prob(JB):                       0.0764\n",
      "Kurtosis:                       3.196   Cond. No.                         232.\n",
      "==============================================================================\n",
      "\n",
      "Notes:\n",
      "[1] Standard Errors assume that the covariance matrix of the errors is correctly specified.\n"
     ]
    }
   ],
   "source": [
    "x_with_cnst3 = sm.add_constant(Gentoo['bill_depth_mm'])\n",
    "print(x_with_cnst3)\n",
    "model3 = sm.OLS(Gentoo['body_mass_g'], x_with_cnst3)\n",
    "results3 = model3.fit()\n",
    "print(\"Intercept and slope are:\", results3.params)\n",
    "print(results3.summary() )"
   ]
  },
  {
   "cell_type": "markdown",
   "metadata": {},
   "source": [
    "&#9989;  **Question 3.4 (5 points)**: Answer the following questions: \n",
    "\n",
    "1. For each of the three species of penguins, what was the equation of the best fit linear relationship between the species' body mass and bill depth?\n",
    "\n",
    "2. For each of the three species of penguins, as its bill depth increases, does its body mass increase or decrease? \n",
    "\n",
    "3. Based on the $p$-values for the bill depth, is the relationship between each species' body mass and bill depth statistically significant?"
   ]
  },
  {
   "cell_type": "markdown",
   "metadata": {},
   "source": [
    "<font size=+3>&#9998;</font> Put your answers here:\n",
    "1. Adelie: y = 218.209546x - 297.382944\n",
    "Chinstrap: y = 204.624705x - 36.219191\n",
    "Gentoo: y = 364.817170x - 382.544587\n",
    "2. For all species, as the bill depth increases, the body mass also increases. This is inconsistent with when all species were grouped together.\n",
    "3. The p-value for all 3 species is nearly 0, so the relationship is statistically significant.\n"
   ]
  },
  {
   "cell_type": "markdown",
   "metadata": {},
   "source": [
    "&#9989;  **Question 3.5 (6 points)**: Assuming you did everything correctly, the relationship between a penguin's body mass and it's bill depth is the opposite when you split the data by species. This might seem confusing to you. Part of the reason for this is because we skipped a very important step regarding dealing with unfamiliar data, that is **visualizing the data**. \n",
    "\n",
    "**Do this**: Make a scatterplot showing the penguins' body mass vs. bill depth. Color code the dots so that each species gets a different color. Then, display the best fit line for each of the three species using the same color and display the best fit line for all the penguins using a different color. Don't forget to label your axes. When you're done, you should have a plot that contains three different colors of dots and 4 different lines (3 of the lines should match the colors of the three penguin species, respectively)\n",
    "\n",
    "**Hint**: We've included a function to help you plot a line. Feel free to use it, or not. "
   ]
  },
  {
   "cell_type": "code",
   "execution_count": 26,
   "metadata": {},
   "outputs": [],
   "source": [
    "# Put your code here\n",
    "\n",
    "import matplotlib.pyplot as plt\n",
    "import numpy as np\n",
    "def plot_line(slope, intercept, xmin, xmax, color):\n",
    "    xline = np.array([xmin,xmax])\n",
    "    yline = slope*xline+intercept\n",
    "    plt.plot(xline,yline,color)"
   ]
  },
  {
   "cell_type": "code",
   "execution_count": 37,
   "metadata": {},
   "outputs": [
    {
     "data": {
      "image/png": "[encoded data removed]",
      "text/plain": [
       "<Figure size 432x288 with 1 Axes>"
      ]
     },
     "metadata": {
      "needs_background": "light"
     },
     "output_type": "display_data"
    }
   ],
   "source": [
    "import seaborn as sns\n",
    "plt.scatter(Adelie['bill_depth_mm'],Adelie['body_mass_g'], color = 'g')\n",
    "plt.scatter(Chinstrap['bill_depth_mm'],Chinstrap['body_mass_g'], color = 'b')\n",
    "plt.scatter(Gentoo['bill_depth_mm'],Gentoo['body_mass_g'], color = 'r')\n",
    "plt.legend(['Adelie','Chinstrap','Gentoo'])\n",
    "plt.xlabel('Bill Depth (mm)')\n",
    "plt.ylabel('Body Mass (g)')\n",
    "plt.title('Species Bill Depth vs. Body Mass')\n",
    "plot_line(-193.442365,7528.620530,13,22,'black')"
   ]
  },
  {
   "cell_type": "markdown",
   "metadata": {},
   "source": [
    "&#9989;  **Question 3.6 (3 points)**: Now that you've visualized the data, can you give an explaination as to why the relationship between a penguin's body mass and bill depth changed drastically when we split the data by species?"
   ]
  },
  {
   "cell_type": "markdown",
   "metadata": {},
   "source": [
    "<font size=+3>&#9998;</font> Put your answers here:\n",
    "Becuase Gentoo had significantly higher body masses with significantly lower bill depth, It skewed the data to be mass decreasing as bill depth increased. When looking at each species specifically, it is clear that mass increases as bill depth increases, which is a much more logical conslusion. The species separately have positive slopes, but together they have a negative slope because of how different the gentoo penguins are compared to chinstrap and adelie."
   ]
  },
  {
   "cell_type": "markdown",
   "metadata": {},
   "source": [
    "---\n",
    "### &#128721; STOP\n",
    "**Pause to commit your changes to your Git repository!**\n",
    "\n",
    "Take a moment to save your notebook, commit the changes to your local `git` repository using the commit message \"Part 3 complete\", and push the changes to GitHub.\n",
    "\n",
    "---"
   ]
  },
  {
   "cell_type": "markdown",
   "metadata": {},
   "source": [
    "## Part 4: Multiple Regression (20 points)\n",
    "\n",
    "In this part, we'll use multiple features to predict the body mass of a Chinstrap penguin. "
   ]
  },
  {
   "cell_type": "markdown",
   "metadata": {},
   "source": [
    "&#9989;  **Question 4.1 (3 points)**: Using the `OLS` method in `statsmodels`, perform a multivariable linear regression to predict a  **Chinstrap** penguin's body mass given just its bill length, bill depth, and flipper length. Be sure to use the `add_constant()` method to ensure `OLS` includes a constant term in its model. As before, make sure to **display a summary of your results**."
   ]
  },
  {
   "cell_type": "code",
   "execution_count": 38,
   "metadata": {},
   "outputs": [
    {
     "name": "stdout",
     "output_type": "stream",
     "text": [
      "Intercept and slope are: const               -3157.530055\n",
      "bill_length_mm         16.039156\n",
      "bill_depth_mm          91.512750\n",
      "flipper_length_mm      22.579750\n",
      "dtype: float64\n",
      "                            OLS Regression Results                            \n",
      "==============================================================================\n",
      "Dep. Variable:            body_mass_g   R-squared:                       0.504\n",
      "Model:                            OLS   Adj. R-squared:                  0.481\n",
      "Method:                 Least Squares   F-statistic:                     21.66\n",
      "Date:                Fri, 10 Nov 2023   Prob (F-statistic):           8.48e-10\n",
      "Time:                        15:47:13   Log-Likelihood:                -476.86\n",
      "No. Observations:                  68   AIC:                             961.7\n",
      "Df Residuals:                      64   BIC:                             970.6\n",
      "Df Model:                           3                                         \n",
      "Covariance Type:            nonrobust                                         \n",
      "=====================================================================================\n",
      "                        coef    std err          t      P>|t|      [0.025      0.975]\n",
      "-------------------------------------------------------------------------------------\n",
      "const             -3157.5301    932.364     -3.387      0.001   -5020.141   -1294.919\n",
      "bill_length_mm       16.0392     13.542      1.184      0.241     -11.015      43.093\n",
      "bill_depth_mm        91.5127     43.120      2.122      0.038       5.371     177.654\n",
      "flipper_length_mm    22.5797      5.892      3.832      0.000      10.809      34.351\n",
      "==============================================================================\n",
      "Omnibus:                        0.879   Durbin-Watson:                   2.477\n",
      "Prob(Omnibus):                  0.644   Jarque-Bera (JB):                0.330\n",
      "Skew:                          -0.037   Prob(JB):                        0.848\n",
      "Kurtosis:                       3.333   Cond. No.                     5.63e+03\n",
      "==============================================================================\n",
      "\n",
      "Notes:\n",
      "[1] Standard Errors assume that the covariance matrix of the errors is correctly specified.\n",
      "[2] The condition number is large, 5.63e+03. This might indicate that there are\n",
      "strong multicollinearity or other numerical problems.\n"
     ]
    }
   ],
   "source": [
    "# Put your code here\n",
    "x2 = Chinstrap[['bill_length_mm','bill_depth_mm','flipper_length_mm']]\n",
    "x2 = sm.add_constant(x2)\n",
    "model2 = sm.OLS(Chinstrap['body_mass_g'], x2)\n",
    "results2 = model2.fit()\n",
    "print(\"Intercept and slope are:\", results2.params)\n",
    "print(results2.summary())"
   ]
  },
  {
   "cell_type": "markdown",
   "metadata": {},
   "source": [
    "&#9989;  **Question 4.2 (4 points)**: Answer the following questions: \n",
    "\n",
    "1. Suppose the Chinstrap penguin in the image above has a bill length of 52.0 mm, a bill depth of 20.7 mm, and a flipper length of 210.0 mm. What does your linear model predict the Chinstrap penguin's body mass (in g) is? Explain how you got your answer.\n",
    "\n",
    "2. For each of the features, specify if it is statistically significant or not. Briefly justify your answers."
   ]
  },
  {
   "cell_type": "markdown",
   "metadata": {},
   "source": [
    "<font size=+3>&#9998;</font> Put your answers here:\n",
    "1. y = 16.039156x + 91.512750z + 22.579750w - 3157.530055, this predicts the mass of a Chinstrap penguin with 52 mm bill length, 20.7 mm bill depth, and 210 mm flipper length to be 4312.360482 g.\n",
    "2. Bill length is not statistically significant, it has a p-value of .241 which is above the standard .05 confidence level. Bill depth and flipper length are statistically significant with p-values of .038 and nearly zero respectively."
   ]
  },
  {
   "cell_type": "markdown",
   "metadata": {},
   "source": [
    "&#9989;  **Question 4.3 (3 points)**: Perform the same multivariable linear regression again, but this time with just the **two most significant features**. Even if you got that 0, 1, or 3 of the features were significant, just pick the two you think are most significant for this question. Display the summary of these results."
   ]
  },
  {
   "cell_type": "code",
   "execution_count": 39,
   "metadata": {},
   "outputs": [
    {
     "name": "stdout",
     "output_type": "stream",
     "text": [
      "Intercept and slope are: const               -3076.856402\n",
      "bill_depth_mm         118.527283\n",
      "flipper_length_mm      23.626386\n",
      "dtype: float64\n",
      "                            OLS Regression Results                            \n",
      "==============================================================================\n",
      "Dep. Variable:            body_mass_g   R-squared:                       0.493\n",
      "Model:                            OLS   Adj. R-squared:                  0.477\n",
      "Method:                 Least Squares   F-statistic:                     31.59\n",
      "Date:                Fri, 10 Nov 2023   Prob (F-statistic):           2.60e-10\n",
      "Time:                        15:54:50   Log-Likelihood:                -477.60\n",
      "No. Observations:                  68   AIC:                             961.2\n",
      "Df Residuals:                      65   BIC:                             967.9\n",
      "Df Model:                           2                                         \n",
      "Covariance Type:            nonrobust                                         \n",
      "=====================================================================================\n",
      "                        coef    std err          t      P>|t|      [0.025      0.975]\n",
      "-------------------------------------------------------------------------------------\n",
      "const             -3076.8564    932.749     -3.299      0.002   -4939.684   -1214.029\n",
      "bill_depth_mm       118.5273     36.706      3.229      0.002      45.220     191.834\n",
      "flipper_length_mm    23.6264      5.844      4.043      0.000      11.956      35.297\n",
      "==============================================================================\n",
      "Omnibus:                        0.680   Durbin-Watson:                   2.526\n",
      "Prob(Omnibus):                  0.712   Jarque-Bera (JB):                0.199\n",
      "Skew:                           0.003   Prob(JB):                        0.905\n",
      "Kurtosis:                       3.265   Cond. No.                     5.45e+03\n",
      "==============================================================================\n",
      "\n",
      "Notes:\n",
      "[1] Standard Errors assume that the covariance matrix of the errors is correctly specified.\n",
      "[2] The condition number is large, 5.45e+03. This might indicate that there are\n",
      "strong multicollinearity or other numerical problems.\n"
     ]
    }
   ],
   "source": [
    "# Put your code here\n",
    "x1 = Chinstrap[['bill_depth_mm','flipper_length_mm']]\n",
    "x1 = sm.add_constant(x1)\n",
    "model1 = sm.OLS(Chinstrap['body_mass_g'], x1)\n",
    "results1 = model1.fit()\n",
    "print(\"Intercept and slope are:\", results1.params)\n",
    "print(results1.summary())"
   ]
  },
  {
   "cell_type": "markdown",
   "metadata": {},
   "source": [
    "&#9989;  **Question 4.4 (4 points)**: Answer these questions: \n",
    "\n",
    "1. Qualitatively, how much better/worse is the reduced model compared to the original model? Briefly justify your answer.\n",
    "\n",
    "2. Explain in your own words why we might want to use a model with fewer features, even if it fits the data a bit worse than a model with more features."
   ]
  },
  {
   "cell_type": "markdown",
   "metadata": {},
   "source": [
    "<font size=+3>&#9998;</font> Put your answers here:\n",
    "1. Qualitatively the model is slightly worse. It has a slightly lower Adjusted R-squared value. The previous model had an adj R-squared value of .481, while this new one has a value of .477.\n",
    "2. Using a model with fewer features is easier and simpler which is helpful when using it to explain the data. More complex models are much harder to explain, especially to an audience that may not be well versed in the concept. Using fewer features also helps single out the most significant features. While a model with more features may be slightly better, it may hinder in the findings of the importance of some features over others."
   ]
  },
  {
   "cell_type": "markdown",
   "metadata": {},
   "source": [
    "&#9989;  **Question 4.5 (2 points)**: Suppose we wanted to use the sex of a Chinstrap penguin as a feature to predict its body mass. Will simply including the `sex` column in the second argument to `OLS()` work? If not, why, and what could we do to fix it?"
   ]
  },
  {
   "cell_type": "markdown",
   "metadata": {},
   "source": [
    "<font size=+3>&#9998;</font> Put your answers here:\n",
    "I do not think it would work to just put the sex column into OLS, becuase it is a column of strings, not numbers. It would work better if we sorted the data by sex, then compared the two."
   ]
  },
  {
   "cell_type": "markdown",
   "metadata": {},
   "source": [
    "&#9989;  **Question 4.6 (4 points)**: A student from U of M managed to enroll in this class (don't ask us how) and is working on this homework. They got the following output when they used the `OLS()` method in `statsmodels.api`. \n",
    "\n",
    "<img src=\"https://i.ibb.co/SRs1MRM/Perfect-Model-Chinstrap.png\" width=\"400px\" border=\"0\">\n",
    "\n",
    "When you compare outputs, the Wolverine tells you \"My linear model is better than yours because my linear model has a larger $R^2$-value than your model. I guess Wolverines are way better than Spartans at data science.\"\n",
    "\n",
    "**Do this**: Answer These Questions:\n",
    "1. How did they get a linear model with a near perfect $R^2$-value? \n",
    "2. Is their model actually better than yours? \n",
    "\n",
    "Justify your answers."
   ]
  },
  {
   "cell_type": "markdown",
   "metadata": {},
   "source": [
    "<font size=+3>&#9998;</font> Put your answers here:\n",
    "1. They got a model with a perfect R-squared value because they used body mass as a variable to predict body mass. perfect R-squared values very rarely exist in real data, so seeing one may be a red flag that there is a mistake somewhere in your model. Using the variable that you are trying to predict as a variable to predict it, it is going to be a \"perfect relationship\". You are essentially saying y = y is your model.\n",
    "2. No, their model is not better than mine even though it has a much higher R-squared value. Their model does not predict body mass based on other variable of the chinstrap penguins. Their model predicts the body mass of a chinstrap "
   ]
  },
  {
   "cell_type": "markdown",
   "metadata": {},
   "source": [
    "---\n",
    "### &#128721; STOP\n",
    "**Pause to commit your changes to your Git repository!**\n",
    "\n",
    "Take a moment to save your notebook, commit the changes to your local `git` repository using the commit message \"Part 4 complete\", and push the changes to GitHub.\n",
    "\n",
    "---"
   ]
  },
  {
   "cell_type": "markdown",
   "metadata": {},
   "source": [
    "## Part 5: Logistic Regression (18 points)\n",
    "\n",
    "In this part, we'd like to use logistic regression to classify the species of a penguin given it's body measurements. Logistic regression (as we've learned so far in class) does binary classification. However, we have three species of penguins, and they are not very happy when they are mistaken for another species.\n",
    "\n",
    "<img src=\"https://i.redd.it/q09631arghi41.jpg\" width=\"400px\">"
   ]
  },
  {
   "cell_type": "markdown",
   "metadata": {},
   "source": [
    "&#9989;  **Question 5.1 (4 points)**: Let's start by making a classifier to distinguish Adélie penguins from the other two species (Chinstrap penguins and Gentoo penguins). \n",
    "\n",
    "**Do This**: Double check that you still have the DataFrame from Question 2.3 intact, i.e. it has data from all three species, but with the NaN rows dropped. Then, create a `Pandas` `Series` called `labels` which takes the `species` column of the DataFrame, but replaces 'Chinstrap' and 'Gentoo' with 0 and replaces 'Adelie' with 1. Also, create a `Pandas` `DataFrame` called `features` which consists of just the four columns bill length, bill depth, flipper length, and body mass. Display the labels and features to make sure you did this correctly."
   ]
  },
  {
   "cell_type": "code",
   "execution_count": null,
   "metadata": {},
   "outputs": [],
   "source": [
    "# Put your code here"
   ]
  },
  {
   "cell_type": "markdown",
   "metadata": {},
   "source": [
    "&#9989;  **Question 5.2 (4 points)**: Split your data into a training and testing set with a training set representing 75% of your data. For reproducibility, set the `random_state` argument to `0`. Print the shapes of the training features, the testing features, the training labels, and the testing labels to show you have the right number of entries in each of the four variables."
   ]
  },
  {
   "cell_type": "code",
   "execution_count": null,
   "metadata": {},
   "outputs": [],
   "source": [
    "# Put your code here"
   ]
  },
  {
   "cell_type": "markdown",
   "metadata": {},
   "source": [
    "&#9989;  **Question 5.3 (4 points)**: Now, train a logistic regression model using your training features and training labels. **Display the summary**."
   ]
  },
  {
   "cell_type": "code",
   "execution_count": null,
   "metadata": {},
   "outputs": [],
   "source": [
    "# Put your code here"
   ]
  },
  {
   "cell_type": "markdown",
   "metadata": {},
   "source": [
    "&#9989;  **Question 5.4 (4 points)**: Finally, test your logistic regression model using your testing features and testing labels. Display the fraction of testing data points that were correctly predicted. "
   ]
  },
  {
   "cell_type": "code",
   "execution_count": null,
   "metadata": {},
   "outputs": [],
   "source": [
    "# Put your code here"
   ]
  },
  {
   "cell_type": "markdown",
   "metadata": {},
   "source": [
    "&#9989;  **Question 5.5 (2 points)**: If everything worked correctly, you should have a classifier that can distinguish Adélie penguins from the other two species with high accuracy! Now, suppose you wanted to write code that would take a penguins measurements (bill length, bill depth, flipper length, and body mass) and predict which of the three species the penguin was. Describe how you would do this. **Note**: You don't need to actually implement this with code, you simply need to have a sufficiently detailed plan for how you *could* do it. "
   ]
  },
  {
   "cell_type": "markdown",
   "metadata": {},
   "source": [
    "<font size=+3>&#9998;</font> Put your answers here:"
   ]
  },
  {
   "cell_type": "markdown",
   "metadata": {},
   "source": [
    "---\n",
    "### &#128721; STOP\n",
    "**Pause to commit your changes to your Git repository!**\n",
    "\n",
    "Take a moment to save your notebook, commit the changes to your local `git` repository using the commit message \"Part 5 complete\", and push the changes to GitHub.\n",
    "\n",
    "---"
   ]
  },
  {
   "cell_type": "markdown",
   "metadata": {},
   "source": [
    "## Part 1. Continued\n",
    "\n",
    "Now that you've finished your new \"development\" on your 202 turn-in repo, you can merge your work back into your `main` branch.\n",
    "\n",
    "**&#9989; Do the following**:\n",
    "\n",
    "7. Switch back to your `main` branch. \n",
    "8. Merge your `hw03_branch` with your `main` branch. \n",
    "9. Finally, push the changes to GitHub."
   ]
  },
  {
   "cell_type": "markdown",
   "metadata": {},
   "source": [
    "---\n",
    "## Assignment wrap-up\n",
    "\n",
    "\n",
    "Please fill out the form that appears when you run the code below.  **You must completely fill this out in order to receive credit for the assignment!**"
   ]
  },
  {
   "cell_type": "code",
   "execution_count": null,
   "metadata": {},
   "outputs": [],
   "source": [
    "from IPython.display import HTML\n",
    "HTML(\n",
    "\"\"\"\n",
    "<iframe \n",
    "\tsrc=\"https://forms.office.com/r/UsXJF7EeNY\" \n",
    "\twidth=\"800px\" \n",
    "\theight=\"600px\" \n",
    "\tframeborder=\"0\" \n",
    "\tmarginheight=\"0\" \n",
    "\tmarginwidth=\"0\">\n",
    "\tLoading...\n",
    "</iframe>\n",
    "\"\"\"\n",
    ")"
   ]
  },
  {
   "cell_type": "markdown",
   "metadata": {},
   "source": [
    "## Congratulations, you're done!\n",
    "\n",
    "<img src=https://education.rstudio.com/blog/2020/07/palmerpenguins-cran/penguins_cran.png width=200px>\n",
    "\n",
    "Submit this assignment by uploading it to the course Desire2Learn web page.  Go to the \"Homework Assignments\" folder, find the dropbox link for Homework 3, and upload it there."
   ]
  },
  {
   "cell_type": "markdown",
   "metadata": {},
   "source": [
    "&#169; Copyright 2023,  Department of Computational Mathematics, Science and Engineering at Michigan State University"
   ]
  }
 ],
 "metadata": {
  "kernelspec": {
   "display_name": "Python 3.8",
   "language": "python",
   "name": "python3"
  },
  "language_info": {
   "codemirror_mode": {
    "name": "ipython",
    "version": 3
   },
   "file_extension": ".py",
   "mimetype": "text/x-python",
   "name": "python",
   "nbconvert_exporter": "python",
   "pygments_lexer": "ipython3",
   "version": "3.8.8"
  },
  "toc": {
   "base_numbering": 1,
   "nav_menu": {},
   "number_sections": true,
   "sideBar": true,
   "skip_h1_title": false,
   "title_cell": "Table of Contents",
   "title_sidebar": "Contents",
   "toc_cell": false,
   "toc_position": {},
   "toc_section_display": true,
   "toc_window_display": false
  }
 },
 "nbformat": 4,
 "nbformat_minor": 4
}
