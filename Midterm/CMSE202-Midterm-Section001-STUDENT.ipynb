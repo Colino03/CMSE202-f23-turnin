{
 "cells": [
  {
   "cell_type": "markdown",
   "metadata": {},
   "source": [
    "## <p style=\"text-align: right;\"> &#9989; Colin Bonnema</p>"
   ]
  },
  {
   "cell_type": "markdown",
   "metadata": {},
   "source": [
    "# CMSE 202 Midterm (Section 001 - Fall 2023)\n",
    "\n",
    "The goal of this midterm is to give you the opportunity to test out some of the skills that you've developed thus far this semester. In particular, you'll practice setting up a GitHub repository, committing and pushing repository changes, downloading data with command line tools, performing some data analysis, possibly using a new Python package, and writing a python class. You should find that you have all of the skills necessary to complete this exam with even just eight weeks of CMSE 202 under your belt!\n",
    "\n",
    "You are encouraged to look through the entire exam before you get started so that you can appropriately budget your time and understand the broad goals of the exam. Once you've read through it, try doing Parts 1 and 2 first so that you have your repository set up and you download all necessary data files as they will be necessary to complete the assigned tasks. Let your instructor know right away if you have problems downloading the data!\n",
    "\n",
    "**The exam is set up so that even if you get stuck on one part there are opportunities to get points on the other parts, so consider jumping ahead if you feel like you aren't making progress and then come back later if you have time.**\n",
    "\n",
    "**Important note about using online resources**: This exam is \"open internet\". That means that you can look up documentation, google how to accomplish certain Python tasks, etc. Being able to effectively use the internet for computational modeling and data science is a very important skill, so we want to make sure you have the opportunity to exercise that skill. **However**: The use of any person-to-person communication software is absolutely not acceptable. If you are seen accessing your email, using a chat program (e.g. Slack), or any sort of collaborative cloud storage or document software (e.g. Google Documents), you will be at risk for receiving a zero on the exam.\n",
    "\n",
    "**Keep your eyes on your screen!** Unfortunately, there isn't enough space in the room for everyone to sit at their own table so please do your best to keep your eyes on your own screen. This exam is designed to give *you* the opportunity to show the instructor what you can do and you should hold yourself accountable for maintaining a high level of academic integrity. If any of the instructors observe suspicious behavior, you will, again, risk receiving a zero.\n",
    "\n",
    "There are **42 points** possible on this exam. The point breakdowns are in the section headers and within each question."
   ]
  },
  {
   "cell_type": "markdown",
   "metadata": {},
   "source": [
    "---\n",
    "## Part 0: Academic integrity statement\n",
    "\n",
    "Read the following statement and edit the markdown text to put your name in the statement. This is your commitment to doing your own authentic work on this exam."
   ]
  },
  {
   "cell_type": "markdown",
   "metadata": {},
   "source": [
    "> I, **Colin Bonnema**, affirm that this exam represents my own authetic work, without the use of any unpermitted aids or resources or person-to-person communication. I understand that this exam an an opportunity to showcase my own progress in developing and improving my computational skills and have done my best to demonstrate those skills."
   ]
  },
  {
   "cell_type": "markdown",
   "metadata": {},
   "source": [
    "---\n",
    "## Part 1: Add to your Git repository to track your progress on your exam (2 points)\n",
    "\n",
    "Before you get to far along in the exam, you're going to add it to the `cmse202-f23-turnin` repository you created in class (or in Homework 1) so that you can track your progress on the exam and preserve the final version that you turn in. In order to do this you need to\n",
    "\n",
    "**&#9989; Do the following**:\n",
    "\n",
    "1. Navigate to your `cmse202-f23-turnin` repository and create a new directory called `midterm`.\n",
    "2. Move this notebook into that **new directory** in your repository, then **add it and commit it to your repository**.\n",
    "1. Finally, to test that everything is working, \"git push\" the file so that it ends up in your GitHub repository.\n",
    "\n",
    "**Important**: Double check you've added your Professor and your TA as collaborators to your \"turnin\" respository (you should have done this in your homework assignment).\n",
    "\n",
    "**Also important**: Make sure that the version of this notebook that you are working on is the same one that you just added to your repository! If you are working on a different copy of the notebook, **none of your changes will be tracked**!\n",
    "\n",
    "If everything went as intended, the file should now show up on your GitHub account in the \"`cmse202-f23-turnin`\" repository inside the `midterm` directory that you just created.  Periodically, **you'll be asked to commit your changes to the repository and push them to the remote GitHub location**. Of course, you can always commit your changes more often than that, if you wish.  It can be good to get into a habit of committing your changes any time you make a significant modification, or when you stop working on the project for a bit.\n",
    "\n",
    "&#9989; **Do this**: Before you move on, put the command that your instructor should run to clone your repository in the markdown cell below."
   ]
  },
  {
   "cell_type": "markdown",
   "metadata": {},
   "source": [
    "``` bash\n",
    "# git clone https://github.com/Colino03/CMSE202-f23-turnin.git\n",
    "\n",
    "```"
   ]
  },
  {
   "cell_type": "markdown",
   "metadata": {},
   "source": [
    "---\n",
    "## Part 2: Downloading and analyzing unfamiliar data (16 points)"
   ]
  },
  {
   "cell_type": "markdown",
   "metadata": {},
   "source": [
    "For this part of the exam, you're going to download and analyze a dataset that you've likely not looked at before. You'll perform some simple, exploratory analysis and create basic visualizations.\n",
    "\n",
    "In particular, you're doing to explore data for the Powerball Lottery drawings from the last 20 years or so. These data is made publicly available on the Colorado Lottery webpage: https://www.coloradolottery.com/en/player-tools/winning-history/\n",
    "\n",
    "Rather than make you download fresh data directly from the website (and in case the website is down), I've provided copy of the dataset that was downloaded on October 6, 2023.\n",
    "\n",
    "You should be able to access it here:\n",
    "\n",
    "`https://raw.githubusercontent.com/msu-cmse-courses/cmse202-supplemental-data/main/data/POWERBALL-from_0001-01-01_to_2023-10-06.xlsx`\n",
    "\n",
    "**Important note**: If you get stuck with either Question 2.3 or 2.6, there is a second dataset that you can use that contains the values generated by those questions. See the bottom of the notebook to get this dataset and the corresponding values."
   ]
  },
  {
   "cell_type": "markdown",
   "metadata": {},
   "source": [
    "&#9989; **Question 2.1 (1 point)**: **Do this now:** Save this file in the same directory as your notebook so you can load it directly. **Then, in the cell below, put the command or commands you used to download the files. If you did not use a command line tool to download the files, write down a command that *would* have fetched the files.**"
   ]
  },
  {
   "cell_type": "markdown",
   "metadata": {},
   "source": [
    "``` bash\n",
    "# curl https://raw.githubusercontent.com/msu-cmse-courses/cmse202-supplemental-data/main/data/POWERBALL-from_0001-01-01_to_2023-10-06.xlsx -O\n",
    "\n",
    "```"
   ]
  },
  {
   "cell_type": "markdown",
   "metadata": {},
   "source": [
    "&#9989; **Question 2.2 (2 points)**: To get started, **read in the `POWERBALL-from_0001-01-01_to_2023-10-06.xlsx` dataset** and then display the first 15 rows of the data using **Pandas**. Take a moment to review the columns of data that are available to you.\n",
    "\n",
    "**Important note**: This is not a CSV file, it's an Excel file, so you'll need to use a different function than what you might be used to using to read it in. But don't worry, Pandas has a built-in function for this!"
   ]
  },
  {
   "cell_type": "code",
   "execution_count": 4,
   "metadata": {},
   "outputs": [
    {
     "name": "stdout",
     "output_type": "stream",
     "text": [
      "             Draw date Last Day To Claim         Winning Numbers  Powerball  \\\n",
      "0   Wednesday, 10/4/23        2024-04-01   9 - 35 - 54 - 63 - 64          1   \n",
      "1      Monday, 10/2/23        2024-03-30  12 - 26 - 27 - 43 - 47          5   \n",
      "2    Saturday, 9/30/23        2024-03-28  19 - 30 - 37 - 44 - 46         22   \n",
      "3   Wednesday, 9/27/23        2024-03-25    1 - 7 - 46 - 47 - 63          7   \n",
      "4      Monday, 9/25/23        2024-03-23  10 - 12 - 22 - 36 - 50          4   \n",
      "5    Saturday, 9/23/23        2024-03-21   1 - 12 - 20 - 33 - 66         21   \n",
      "6   Wednesday, 9/20/23        2024-03-18  16 - 27 - 59 - 62 - 63         23   \n",
      "7      Monday, 9/18/23        2024-03-16   2 - 21 - 26 - 40 - 42          9   \n",
      "8    Saturday, 9/16/23        2024-03-14   8 - 11 - 19 - 24 - 46          5   \n",
      "9   Wednesday, 9/13/23        2024-03-11  22 - 30 - 37 - 44 - 45         18   \n",
      "10     Monday, 9/11/23        2024-03-09   9 - 25 - 27 - 53 - 66          5   \n",
      "11    Saturday, 9/9/23        2024-03-07  11 - 19 - 29 - 63 - 68         25   \n",
      "12   Wednesday, 9/6/23        2024-03-04   9 - 14 - 20 - 23 - 63          1   \n",
      "13      Monday, 9/4/23        2024-03-02   1 - 26 - 32 - 46 - 51         13   \n",
      "14    Saturday, 9/2/23        2024-02-29  25 - 38 - 42 - 66 - 67         19   \n",
      "\n",
      "    Power Play     Jackpot  Jackpot Cash Value  Jackpot Winners  \\\n",
      "0          2.0  1200000000           551700000                0   \n",
      "1          2.0  1040000000           478200000                0   \n",
      "2          2.0   960000000           441400000                0   \n",
      "3          3.0   850000000           397400000                0   \n",
      "4          2.0   785000000           367000000                0   \n",
      "5          2.0   750000000           350600000                0   \n",
      "6          3.0   672000000           320500000                0   \n",
      "7          3.0   638000000           304200000                0   \n",
      "8          2.0   596000000           288200000                0   \n",
      "9          3.0   550000000           266000000                0   \n",
      "10         2.0   522000000           252400000                0   \n",
      "11         2.0   500000000           242400000                0   \n",
      "12         3.0   461000000           223500000                0   \n",
      "13         3.0   435000000           210900000                0   \n",
      "14         4.0   420000000           202100000                0   \n",
      "\n",
      "    Jackpot CO Winners        Date  Year  \n",
      "0                    0  2023-10-04  2023  \n",
      "1                    0  2023-10-02  2023  \n",
      "2                    0  2023-09-30  2023  \n",
      "3                    0  2023-09-27  2023  \n",
      "4                    0  2023-09-25  2023  \n",
      "5                    0  2023-09-23  2023  \n",
      "6                    0  2023-09-20  2023  \n",
      "7                    0  2023-09-18  2023  \n",
      "8                    0  2023-09-16  2023  \n",
      "9                    0  2023-09-13  2023  \n",
      "10                   0  2023-09-11  2023  \n",
      "11                   0  2023-09-09  2023  \n",
      "12                   0  2023-09-06  2023  \n",
      "13                   0  2023-09-04  2023  \n",
      "14                   0  2023-09-02  2023  \n"
     ]
    }
   ],
   "source": [
    "import pandas as pd\n",
    "df = pd.read_csv(\"powerball_reduced.csv\")\n",
    "result = df.head(15)\n",
    "print(result)"
   ]
  },
  {
   "cell_type": "markdown",
   "metadata": {},
   "source": [
    "&#9989; **Question 2.3 (2 points)**: You should notice that the first column is the \"Draw Date\" -- this is the date that the drawing of the lottery numbers took place. However, the format of this date is not very useful for making any plots of the data.\n",
    "\n",
    "In order to make plotting easier, **create a new column in the dataset called 'Date' that contains the same information as the 'Draw Date' column but as a `datetime` object.** There is a built-in Pandas function that you can use for this.\n",
    "\n",
    "Once you've done this, **display the _last_ 5 rows of the dataset and confirm that your new column has the right information.**"
   ]
  },
  {
   "cell_type": "code",
   "execution_count": 5,
   "metadata": {},
   "outputs": [
    {
     "name": "stdout",
     "output_type": "stream",
     "text": [
      "       Draw date\n",
      "2410  22-09-2001\n",
      "2411  19-09-2001\n",
      "2412  15-09-2001\n",
      "2413  12-09-2001\n",
      "2414  08-09-2001\n",
      "2415  05-09-2001\n",
      "2416  01-09-2001\n",
      "2417  29-08-2001\n",
      "2418  25-08-2001\n",
      "2419  22-08-2001\n",
      "2420  18-08-2001\n",
      "2421  15-08-2001\n",
      "2422  11-08-2001\n",
      "2423  08-08-2001\n",
      "2424  04-08-2001\n"
     ]
    }
   ],
   "source": [
    "### Put your code here\n",
    "new_df = pd.to_datetime(df[\"Draw date\"])\n",
    "change_format = new_df.dt.strftime(\"%d-%m-%Y\")\n",
    "org = pd.DataFrame(change_format)\n",
    "result = org.tail(15)\n",
    "print(result)"
   ]
  },
  {
   "cell_type": "markdown",
   "metadata": {},
   "source": [
    "&#9989; **Question 2.4 (4 points)**: Now that you've have a useful date column, **make a plot of winning jackpot values over time in _millions of dollars_** to see how the jackpot has changed over the years. **Make sure to label your axes and give your plot a title.**"
   ]
  },
  {
   "cell_type": "code",
   "execution_count": 6,
   "metadata": {},
   "outputs": [
    {
     "data": {
      "text/plain": [
       "Text(0.5, 1.0, 'Jackpot vs. Date')"
      ]
     },
     "execution_count": 6,
     "metadata": {},
     "output_type": "execute_result"
    },
    {
     "data": {
      "image/png": "[encoded data removed]",
      "text/plain": [
       "<Figure size 432x288 with 1 Axes>"
      ]
     },
     "metadata": {
      "needs_background": "light"
     },
     "output_type": "display_data"
    }
   ],
   "source": [
    "### Put your code here\n",
    "import matplotlib.pyplot as plt\n",
    "plt.scatter(df[\"Draw date\"],df[\"Jackpot\"], s = 3)\n",
    "plt.xlabel(\"Date\")\n",
    "plt.ylabel(\"Jackpot\")\n",
    "plt.title(\"Jackpot vs. Date\")"
   ]
  },
  {
   "cell_type": "markdown",
   "metadata": {},
   "source": [
    "&#9989; **Question 2.5 (1 point)**: Based on your plot, in roughly what year did the jackpot first exceed 1 billion dollars?"
   ]
  },
  {
   "cell_type": "markdown",
   "metadata": {},
   "source": [
    "<font size=+3>&#9998;</font> 2016"
   ]
  },
  {
   "cell_type": "markdown",
   "metadata": {},
   "source": [
    "&#9989; **Question 2.6 (1 point)**: After reviewing the jackpot value as a function of time, which has a lot of variation, you're curious how the average jackpot for each year has changed over time to see if there's a clear trend.\n",
    "\n",
    "To achieve this, first **create a new column in the dataset called 'Year' that contains the year of the drawing**.\n",
    "\n",
    "*Hint*: You can do this using the `dt` attribute of the `datetime` column you created earlier.\n",
    "\n",
    "Display your new dataframe to confirm that you created the column correctly."
   ]
  },
  {
   "cell_type": "code",
   "execution_count": 7,
   "metadata": {},
   "outputs": [
    {
     "data": {
      "text/plain": [
       "0       2023\n",
       "1       2023\n",
       "2       2023\n",
       "3       2023\n",
       "4       2023\n",
       "        ... \n",
       "2420    2001\n",
       "2421    2001\n",
       "2422    2001\n",
       "2423    2001\n",
       "2424    2001\n",
       "Name: Year, Length: 2425, dtype: object"
      ]
     },
     "execution_count": 7,
     "metadata": {},
     "output_type": "execute_result"
    }
   ],
   "source": [
    "new_df = pd.to_datetime(df[\"Draw date\"])\n",
    "change_format1 = new_df.dt.strftime(\"%Y\")\n",
    "df[\"Year\"] = pd.DataFrame(change_format1)\n",
    "df[\"Year\"]"
   ]
  },
  {
   "cell_type": "markdown",
   "metadata": {},
   "source": [
    "&#9989; **Question 2.7 (2 points)**: Now, **calculate the average jackpot value for each year**. *Hint*: You can do this using pretty quickly by using the `groupby` function in Pandas, but if you can't get that to work, you can use any approach you wish. **Display the result**."
   ]
  },
  {
   "cell_type": "code",
   "execution_count": 8,
   "metadata": {},
   "outputs": [],
   "source": [
    "### Put your code here\n"
   ]
  },
  {
   "cell_type": "markdown",
   "metadata": {},
   "source": [
    "&#9989; **Question 2.8 (2 points)**: Finally, explore how the average jackpot value has changed over time by make a plot of the average jackpot value as a function of the years. **Make sure to label your axes and give your plot a title.**"
   ]
  },
  {
   "cell_type": "code",
   "execution_count": 9,
   "metadata": {},
   "outputs": [
    {
     "data": {
      "text/plain": [
       "<matplotlib.collections.PathCollection at 0x7f4db80c2a00>"
      ]
     },
     "execution_count": 9,
     "metadata": {},
     "output_type": "execute_result"
    },
    {
     "data": {
      "image/png": "[encoded data removed]",
      "text/plain": [
       "<Figure size 432x288 with 1 Axes>"
      ]
     },
     "metadata": {
      "needs_background": "light"
     },
     "output_type": "display_data"
    }
   ],
   "source": [
    "### Put your code here\n",
    "plt.scatter(df[\"Year\"],df[\"Jackpot\"])"
   ]
  },
  {
   "cell_type": "markdown",
   "metadata": {},
   "source": [
    "&#9989; **Question 2.9 (1 points)**: Now that you have a plot of the mean jackpot over time, comment on the general trend and any significant deviations from that trend that you observe."
   ]
  },
  {
   "cell_type": "markdown",
   "metadata": {},
   "source": [
    "<font size=+3>&#9998;</font> It is a general trend of increasing jackpot per year. It is most easily seen in the latest years, or in years 2014-2019"
   ]
  },
  {
   "cell_type": "markdown",
   "metadata": {},
   "source": [
    "---\n",
    "### &#128721; STOP\n",
    "**Pause to commit your changes to your Git repository!**\n",
    "\n",
    "Take a moment to save your notebook, commit the changes to your Git repository using the commit message \"**Committing Part 2**\", and push the changes to GitHub."
   ]
  },
  {
   "cell_type": "markdown",
   "metadata": {},
   "source": [
    "---\n",
    "## Part 3: Working with a new Python package (12 points)"
   ]
  },
  {
   "cell_type": "markdown",
   "metadata": {},
   "source": [
    "In this part of the exam you will work with a python package that you likely do not have any (or relatively little) experience with. You will need to do your best to read the documentation and look at examples in order to use this package. You may also need to install the package."
   ]
  },
  {
   "cell_type": "markdown",
   "metadata": {},
   "source": [
    "In particular, you are going to try and make a \"waffle chart\" using the [PyWaffle](https://pywaffle.readthedocs.io/en/latest/index.html) package. The documentation for this package is here: https://pywaffle.readthedocs.io/en/latest/\n",
    "\n",
    "A waffle chart is an alternative to the pie chart that is often used to show percentages. You can read more about waffle charts here: https://baryon.be/uncommon-chart-types-waffle-charts/ "
   ]
  },
  {
   "cell_type": "markdown",
   "metadata": {},
   "source": [
    "&#9989; **Question 3.1 (2 points)**: Unfortunately, `pywaffle` is not already included with Anaconda. However, you should be able to install the package in the same way we have used previously to install Python packages.\n",
    "\n",
    "**Do this: Install the `pywaffle` Python package.**\n",
    "\n",
    "What command did you use to install `pywaffle`? **Include this command in the Markdown cell below.**"
   ]
  },
  {
   "cell_type": "markdown",
   "metadata": {},
   "source": [
    "``` bash\n",
    "# pip install --user pywaffle\n",
    "\n",
    "```"
   ]
  },
  {
   "cell_type": "markdown",
   "metadata": {},
   "source": [
    "Once `pywaffle` is installed, running the following cell should not result in an error message. You might need to re-start your Jupyter kernel after installing the package for this to work. (Once everything works, it should give you no output at all.)"
   ]
  },
  {
   "cell_type": "code",
   "execution_count": 10,
   "metadata": {},
   "outputs": [],
   "source": [
    "# Running this cell should just work and not yield any output if `pywaffle` is installed and available\n",
    "from pywaffle import Waffle"
   ]
  },
  {
   "cell_type": "markdown",
   "metadata": {},
   "source": [
    "Since you'll need some data to make your waffle chart, you're going to continue using the Powerball dataset from Part 2. If you haven't done Part 2 yet or ran into issues, you can use the dataset provided at the end of this notebook (along with the command to load the data), which is a reduced version of the full dataset.\n",
    "\n",
    "&#9989; **Question 3.2 (1 point)**: Before diving into making the waffle chart, **mask the dataframe so that you only have a new dataframe that only contains data from the year 2013 onward** (2013-2023)."
   ]
  },
  {
   "cell_type": "code",
   "execution_count": 11,
   "metadata": {},
   "outputs": [
    {
     "data": {
      "text/html": [
       "<div>\n",
       "<style scoped>\n",
       "    .dataframe tbody tr th:only-of-type {\n",
       "        vertical-align: middle;\n",
       "    }\n",
       "\n",
       "    .dataframe tbody tr th {\n",
       "        vertical-align: top;\n",
       "    }\n",
       "\n",
       "    .dataframe thead th {\n",
       "        text-align: right;\n",
       "    }\n",
       "</style>\n",
       "<table border=\"1\" class=\"dataframe\">\n",
       "  <thead>\n",
       "    <tr style=\"text-align: right;\">\n",
       "      <th></th>\n",
       "      <th>Draw date</th>\n",
       "      <th>Last Day To Claim</th>\n",
       "      <th>Winning Numbers</th>\n",
       "      <th>Powerball</th>\n",
       "      <th>Power Play</th>\n",
       "      <th>Jackpot</th>\n",
       "      <th>Jackpot Cash Value</th>\n",
       "      <th>Jackpot Winners</th>\n",
       "      <th>Jackpot CO Winners</th>\n",
       "      <th>Date</th>\n",
       "      <th>Year</th>\n",
       "    </tr>\n",
       "  </thead>\n",
       "  <tbody>\n",
       "    <tr>\n",
       "      <th>0</th>\n",
       "      <td>Wednesday, 10/4/23</td>\n",
       "      <td>2024-04-01</td>\n",
       "      <td>9 - 35 - 54 - 63 - 64</td>\n",
       "      <td>1</td>\n",
       "      <td>2.0</td>\n",
       "      <td>1200000000</td>\n",
       "      <td>551700000</td>\n",
       "      <td>0</td>\n",
       "      <td>0</td>\n",
       "      <td>2023-10-04</td>\n",
       "      <td>2023</td>\n",
       "    </tr>\n",
       "    <tr>\n",
       "      <th>1</th>\n",
       "      <td>Monday, 10/2/23</td>\n",
       "      <td>2024-03-30</td>\n",
       "      <td>12 - 26 - 27 - 43 - 47</td>\n",
       "      <td>5</td>\n",
       "      <td>2.0</td>\n",
       "      <td>1040000000</td>\n",
       "      <td>478200000</td>\n",
       "      <td>0</td>\n",
       "      <td>0</td>\n",
       "      <td>2023-10-02</td>\n",
       "      <td>2023</td>\n",
       "    </tr>\n",
       "    <tr>\n",
       "      <th>2</th>\n",
       "      <td>Saturday, 9/30/23</td>\n",
       "      <td>2024-03-28</td>\n",
       "      <td>19 - 30 - 37 - 44 - 46</td>\n",
       "      <td>22</td>\n",
       "      <td>2.0</td>\n",
       "      <td>960000000</td>\n",
       "      <td>441400000</td>\n",
       "      <td>0</td>\n",
       "      <td>0</td>\n",
       "      <td>2023-09-30</td>\n",
       "      <td>2023</td>\n",
       "    </tr>\n",
       "    <tr>\n",
       "      <th>3</th>\n",
       "      <td>Wednesday, 9/27/23</td>\n",
       "      <td>2024-03-25</td>\n",
       "      <td>1 - 7 - 46 - 47 - 63</td>\n",
       "      <td>7</td>\n",
       "      <td>3.0</td>\n",
       "      <td>850000000</td>\n",
       "      <td>397400000</td>\n",
       "      <td>0</td>\n",
       "      <td>0</td>\n",
       "      <td>2023-09-27</td>\n",
       "      <td>2023</td>\n",
       "    </tr>\n",
       "    <tr>\n",
       "      <th>4</th>\n",
       "      <td>Monday, 9/25/23</td>\n",
       "      <td>2024-03-23</td>\n",
       "      <td>10 - 12 - 22 - 36 - 50</td>\n",
       "      <td>4</td>\n",
       "      <td>2.0</td>\n",
       "      <td>785000000</td>\n",
       "      <td>367000000</td>\n",
       "      <td>0</td>\n",
       "      <td>0</td>\n",
       "      <td>2023-09-25</td>\n",
       "      <td>2023</td>\n",
       "    </tr>\n",
       "    <tr>\n",
       "      <th>...</th>\n",
       "      <td>...</td>\n",
       "      <td>...</td>\n",
       "      <td>...</td>\n",
       "      <td>...</td>\n",
       "      <td>...</td>\n",
       "      <td>...</td>\n",
       "      <td>...</td>\n",
       "      <td>...</td>\n",
       "      <td>...</td>\n",
       "      <td>...</td>\n",
       "      <td>...</td>\n",
       "    </tr>\n",
       "    <tr>\n",
       "      <th>1229</th>\n",
       "      <td>Wednesday, 1/16/13</td>\n",
       "      <td>2013-07-15</td>\n",
       "      <td>9 - 21 - 28 - 32 - 51</td>\n",
       "      <td>35</td>\n",
       "      <td>NaN</td>\n",
       "      <td>90000000</td>\n",
       "      <td>57200000</td>\n",
       "      <td>0</td>\n",
       "      <td>0</td>\n",
       "      <td>2013-01-16</td>\n",
       "      <td>2013</td>\n",
       "    </tr>\n",
       "    <tr>\n",
       "      <th>1230</th>\n",
       "      <td>Saturday, 1/12/13</td>\n",
       "      <td>2013-07-11</td>\n",
       "      <td>10 - 14 - 21 - 23 - 47</td>\n",
       "      <td>7</td>\n",
       "      <td>NaN</td>\n",
       "      <td>80000000</td>\n",
       "      <td>50800000</td>\n",
       "      <td>0</td>\n",
       "      <td>0</td>\n",
       "      <td>2013-01-12</td>\n",
       "      <td>2013</td>\n",
       "    </tr>\n",
       "    <tr>\n",
       "      <th>1231</th>\n",
       "      <td>Wednesday, 1/9/13</td>\n",
       "      <td>2013-07-08</td>\n",
       "      <td>11 - 13 - 20 - 27 - 59</td>\n",
       "      <td>26</td>\n",
       "      <td>NaN</td>\n",
       "      <td>70000000</td>\n",
       "      <td>44000000</td>\n",
       "      <td>0</td>\n",
       "      <td>0</td>\n",
       "      <td>2013-01-09</td>\n",
       "      <td>2013</td>\n",
       "    </tr>\n",
       "    <tr>\n",
       "      <th>1232</th>\n",
       "      <td>Saturday, 1/5/13</td>\n",
       "      <td>2013-07-04</td>\n",
       "      <td>26 - 30 - 49 - 51 - 54</td>\n",
       "      <td>25</td>\n",
       "      <td>NaN</td>\n",
       "      <td>60000000</td>\n",
       "      <td>37700000</td>\n",
       "      <td>0</td>\n",
       "      <td>0</td>\n",
       "      <td>2013-01-05</td>\n",
       "      <td>2013</td>\n",
       "    </tr>\n",
       "    <tr>\n",
       "      <th>1233</th>\n",
       "      <td>Wednesday, 1/2/13</td>\n",
       "      <td>2013-07-01</td>\n",
       "      <td>18 - 20 - 28 - 35 - 53</td>\n",
       "      <td>20</td>\n",
       "      <td>NaN</td>\n",
       "      <td>50000000</td>\n",
       "      <td>32700000</td>\n",
       "      <td>0</td>\n",
       "      <td>0</td>\n",
       "      <td>2013-01-02</td>\n",
       "      <td>2013</td>\n",
       "    </tr>\n",
       "  </tbody>\n",
       "</table>\n",
       "<p>1234 rows × 11 columns</p>\n",
       "</div>"
      ],
      "text/plain": [
       "               Draw date Last Day To Claim         Winning Numbers  Powerball  \\\n",
       "0     Wednesday, 10/4/23        2024-04-01   9 - 35 - 54 - 63 - 64          1   \n",
       "1        Monday, 10/2/23        2024-03-30  12 - 26 - 27 - 43 - 47          5   \n",
       "2      Saturday, 9/30/23        2024-03-28  19 - 30 - 37 - 44 - 46         22   \n",
       "3     Wednesday, 9/27/23        2024-03-25    1 - 7 - 46 - 47 - 63          7   \n",
       "4        Monday, 9/25/23        2024-03-23  10 - 12 - 22 - 36 - 50          4   \n",
       "...                  ...               ...                     ...        ...   \n",
       "1229  Wednesday, 1/16/13        2013-07-15   9 - 21 - 28 - 32 - 51         35   \n",
       "1230   Saturday, 1/12/13        2013-07-11  10 - 14 - 21 - 23 - 47          7   \n",
       "1231   Wednesday, 1/9/13        2013-07-08  11 - 13 - 20 - 27 - 59         26   \n",
       "1232    Saturday, 1/5/13        2013-07-04  26 - 30 - 49 - 51 - 54         25   \n",
       "1233   Wednesday, 1/2/13        2013-07-01  18 - 20 - 28 - 35 - 53         20   \n",
       "\n",
       "      Power Play     Jackpot  Jackpot Cash Value  Jackpot Winners  \\\n",
       "0            2.0  1200000000           551700000                0   \n",
       "1            2.0  1040000000           478200000                0   \n",
       "2            2.0   960000000           441400000                0   \n",
       "3            3.0   850000000           397400000                0   \n",
       "4            2.0   785000000           367000000                0   \n",
       "...          ...         ...                 ...              ...   \n",
       "1229         NaN    90000000            57200000                0   \n",
       "1230         NaN    80000000            50800000                0   \n",
       "1231         NaN    70000000            44000000                0   \n",
       "1232         NaN    60000000            37700000                0   \n",
       "1233         NaN    50000000            32700000                0   \n",
       "\n",
       "      Jackpot CO Winners        Date  Year  \n",
       "0                      0  2023-10-04  2023  \n",
       "1                      0  2023-10-02  2023  \n",
       "2                      0  2023-09-30  2023  \n",
       "3                      0  2023-09-27  2023  \n",
       "4                      0  2023-09-25  2023  \n",
       "...                  ...         ...   ...  \n",
       "1229                   0  2013-01-16  2013  \n",
       "1230                   0  2013-01-12  2013  \n",
       "1231                   0  2013-01-09  2013  \n",
       "1232                   0  2013-01-05  2013  \n",
       "1233                   0  2013-01-02  2013  \n",
       "\n",
       "[1234 rows x 11 columns]"
      ]
     },
     "execution_count": 11,
     "metadata": {},
     "output_type": "execute_result"
    }
   ],
   "source": [
    "### Put your code here\n",
    "mask = df[\"Year\"] > \"2012\"\n",
    "new = df[mask]\n",
    "new"
   ]
  },
  {
   "cell_type": "markdown",
   "metadata": {},
   "source": [
    "&#9989; **Question 3.3 (1 point)**: Now that you have just the last 10 years of data, filter the data again so that have a new dataframe that only has all the rows in which there was at least one winner for the jackpot. *Hint*: The \"Jackpot Winners\" column contains this information."
   ]
  },
  {
   "cell_type": "code",
   "execution_count": 12,
   "metadata": {},
   "outputs": [
    {
     "name": "stderr",
     "output_type": "stream",
     "text": [
      "<ipython-input-12-387d8721e39a>:2: UserWarning: Boolean Series key will be reindexed to match DataFrame index.\n",
      "  win = new[mask2]\n"
     ]
    },
    {
     "data": {
      "text/html": [
       "<div>\n",
       "<style scoped>\n",
       "    .dataframe tbody tr th:only-of-type {\n",
       "        vertical-align: middle;\n",
       "    }\n",
       "\n",
       "    .dataframe tbody tr th {\n",
       "        vertical-align: top;\n",
       "    }\n",
       "\n",
       "    .dataframe thead th {\n",
       "        text-align: right;\n",
       "    }\n",
       "</style>\n",
       "<table border=\"1\" class=\"dataframe\">\n",
       "  <thead>\n",
       "    <tr style=\"text-align: right;\">\n",
       "      <th></th>\n",
       "      <th>Draw date</th>\n",
       "      <th>Last Day To Claim</th>\n",
       "      <th>Winning Numbers</th>\n",
       "      <th>Powerball</th>\n",
       "      <th>Power Play</th>\n",
       "      <th>Jackpot</th>\n",
       "      <th>Jackpot Cash Value</th>\n",
       "      <th>Jackpot Winners</th>\n",
       "      <th>Jackpot CO Winners</th>\n",
       "      <th>Date</th>\n",
       "      <th>Year</th>\n",
       "    </tr>\n",
       "  </thead>\n",
       "  <tbody>\n",
       "    <tr>\n",
       "      <th>33</th>\n",
       "      <td>Wednesday, 7/19/23</td>\n",
       "      <td>2024-01-15</td>\n",
       "      <td>7 - 10 - 11 - 13 - 24</td>\n",
       "      <td>24</td>\n",
       "      <td>2.0</td>\n",
       "      <td>1000000000</td>\n",
       "      <td>516800000</td>\n",
       "      <td>1</td>\n",
       "      <td>0</td>\n",
       "      <td>2023-07-19</td>\n",
       "      <td>2023</td>\n",
       "    </tr>\n",
       "    <tr>\n",
       "      <th>72</th>\n",
       "      <td>Wednesday, 4/19/23</td>\n",
       "      <td>2023-10-16</td>\n",
       "      <td>4 - 11 - 21 - 38 - 64</td>\n",
       "      <td>11</td>\n",
       "      <td>3.0</td>\n",
       "      <td>251000000</td>\n",
       "      <td>133800000</td>\n",
       "      <td>1</td>\n",
       "      <td>0</td>\n",
       "      <td>2023-04-19</td>\n",
       "      <td>2023</td>\n",
       "    </tr>\n",
       "    <tr>\n",
       "      <th>92</th>\n",
       "      <td>Saturday, 3/4/23</td>\n",
       "      <td>2023-08-31</td>\n",
       "      <td>10 - 16 - 18 - 40 - 66</td>\n",
       "      <td>16</td>\n",
       "      <td>3.0</td>\n",
       "      <td>161000000</td>\n",
       "      <td>82200000</td>\n",
       "      <td>1</td>\n",
       "      <td>0</td>\n",
       "      <td>2023-03-04</td>\n",
       "      <td>2023</td>\n",
       "    </tr>\n",
       "    <tr>\n",
       "      <th>103</th>\n",
       "      <td>Monday, 2/6/23</td>\n",
       "      <td>2023-08-05</td>\n",
       "      <td>5 - 11 - 22 - 23 - 69</td>\n",
       "      <td>7</td>\n",
       "      <td>2.0</td>\n",
       "      <td>747000000</td>\n",
       "      <td>403100000</td>\n",
       "      <td>1</td>\n",
       "      <td>0</td>\n",
       "      <td>2023-02-06</td>\n",
       "      <td>2023</td>\n",
       "    </tr>\n",
       "    <tr>\n",
       "      <th>137</th>\n",
       "      <td>Saturday, 11/19/22</td>\n",
       "      <td>2023-05-18</td>\n",
       "      <td>7 - 28 - 62 - 63 - 64</td>\n",
       "      <td>10</td>\n",
       "      <td>3.0</td>\n",
       "      <td>93000000</td>\n",
       "      <td>46700000</td>\n",
       "      <td>1</td>\n",
       "      <td>0</td>\n",
       "      <td>2022-11-19</td>\n",
       "      <td>2022</td>\n",
       "    </tr>\n",
       "    <tr>\n",
       "      <th>...</th>\n",
       "      <td>...</td>\n",
       "      <td>...</td>\n",
       "      <td>...</td>\n",
       "      <td>...</td>\n",
       "      <td>...</td>\n",
       "      <td>...</td>\n",
       "      <td>...</td>\n",
       "      <td>...</td>\n",
       "      <td>...</td>\n",
       "      <td>...</td>\n",
       "      <td>...</td>\n",
       "    </tr>\n",
       "    <tr>\n",
       "      <th>1192</th>\n",
       "      <td>Saturday, 5/25/13</td>\n",
       "      <td>2013-11-21</td>\n",
       "      <td>2 - 6 - 19 - 21 - 27</td>\n",
       "      <td>25</td>\n",
       "      <td>NaN</td>\n",
       "      <td>50000000</td>\n",
       "      <td>31100000</td>\n",
       "      <td>3</td>\n",
       "      <td>0</td>\n",
       "      <td>2013-05-25</td>\n",
       "      <td>2013</td>\n",
       "    </tr>\n",
       "    <tr>\n",
       "      <th>1194</th>\n",
       "      <td>Saturday, 5/18/13</td>\n",
       "      <td>2013-11-14</td>\n",
       "      <td>10 - 13 - 14 - 22 - 52</td>\n",
       "      <td>11</td>\n",
       "      <td>NaN</td>\n",
       "      <td>590500000</td>\n",
       "      <td>370900000</td>\n",
       "      <td>1</td>\n",
       "      <td>0</td>\n",
       "      <td>2013-05-18</td>\n",
       "      <td>2013</td>\n",
       "    </tr>\n",
       "    <tr>\n",
       "      <th>1208</th>\n",
       "      <td>Saturday, 3/30/13</td>\n",
       "      <td>2013-09-26</td>\n",
       "      <td>11 - 23 - 26 - 46 - 55</td>\n",
       "      <td>27</td>\n",
       "      <td>NaN</td>\n",
       "      <td>50000000</td>\n",
       "      <td>31400000</td>\n",
       "      <td>1</td>\n",
       "      <td>0</td>\n",
       "      <td>2013-03-30</td>\n",
       "      <td>2013</td>\n",
       "    </tr>\n",
       "    <tr>\n",
       "      <th>1210</th>\n",
       "      <td>Saturday, 3/23/13</td>\n",
       "      <td>2013-09-19</td>\n",
       "      <td>17 - 29 - 31 - 52 - 53</td>\n",
       "      <td>31</td>\n",
       "      <td>NaN</td>\n",
       "      <td>338300000</td>\n",
       "      <td>211000000</td>\n",
       "      <td>1</td>\n",
       "      <td>0</td>\n",
       "      <td>2013-03-23</td>\n",
       "      <td>2013</td>\n",
       "    </tr>\n",
       "    <tr>\n",
       "      <th>1223</th>\n",
       "      <td>Wednesday, 2/6/13</td>\n",
       "      <td>2013-08-05</td>\n",
       "      <td>5 - 27 - 36 - 38 - 41</td>\n",
       "      <td>12</td>\n",
       "      <td>NaN</td>\n",
       "      <td>217200000</td>\n",
       "      <td>136500000</td>\n",
       "      <td>1</td>\n",
       "      <td>0</td>\n",
       "      <td>2013-02-06</td>\n",
       "      <td>2013</td>\n",
       "    </tr>\n",
       "  </tbody>\n",
       "</table>\n",
       "<p>88 rows × 11 columns</p>\n",
       "</div>"
      ],
      "text/plain": [
       "               Draw date Last Day To Claim         Winning Numbers  Powerball  \\\n",
       "33    Wednesday, 7/19/23        2024-01-15   7 - 10 - 11 - 13 - 24         24   \n",
       "72    Wednesday, 4/19/23        2023-10-16   4 - 11 - 21 - 38 - 64         11   \n",
       "92      Saturday, 3/4/23        2023-08-31  10 - 16 - 18 - 40 - 66         16   \n",
       "103       Monday, 2/6/23        2023-08-05   5 - 11 - 22 - 23 - 69          7   \n",
       "137   Saturday, 11/19/22        2023-05-18   7 - 28 - 62 - 63 - 64         10   \n",
       "...                  ...               ...                     ...        ...   \n",
       "1192   Saturday, 5/25/13        2013-11-21    2 - 6 - 19 - 21 - 27         25   \n",
       "1194   Saturday, 5/18/13        2013-11-14  10 - 13 - 14 - 22 - 52         11   \n",
       "1208   Saturday, 3/30/13        2013-09-26  11 - 23 - 26 - 46 - 55         27   \n",
       "1210   Saturday, 3/23/13        2013-09-19  17 - 29 - 31 - 52 - 53         31   \n",
       "1223   Wednesday, 2/6/13        2013-08-05   5 - 27 - 36 - 38 - 41         12   \n",
       "\n",
       "      Power Play     Jackpot  Jackpot Cash Value  Jackpot Winners  \\\n",
       "33           2.0  1000000000           516800000                1   \n",
       "72           3.0   251000000           133800000                1   \n",
       "92           3.0   161000000            82200000                1   \n",
       "103          2.0   747000000           403100000                1   \n",
       "137          3.0    93000000            46700000                1   \n",
       "...          ...         ...                 ...              ...   \n",
       "1192         NaN    50000000            31100000                3   \n",
       "1194         NaN   590500000           370900000                1   \n",
       "1208         NaN    50000000            31400000                1   \n",
       "1210         NaN   338300000           211000000                1   \n",
       "1223         NaN   217200000           136500000                1   \n",
       "\n",
       "      Jackpot CO Winners        Date  Year  \n",
       "33                     0  2023-07-19  2023  \n",
       "72                     0  2023-04-19  2023  \n",
       "92                     0  2023-03-04  2023  \n",
       "103                    0  2023-02-06  2023  \n",
       "137                    0  2022-11-19  2022  \n",
       "...                  ...         ...   ...  \n",
       "1192                   0  2013-05-25  2013  \n",
       "1194                   0  2013-05-18  2013  \n",
       "1208                   0  2013-03-30  2013  \n",
       "1210                   0  2013-03-23  2013  \n",
       "1223                   0  2013-02-06  2013  \n",
       "\n",
       "[88 rows x 11 columns]"
      ]
     },
     "execution_count": 12,
     "metadata": {},
     "output_type": "execute_result"
    }
   ],
   "source": [
    "mask2 = df[\"Jackpot Winners\"] > 0\n",
    "win = new[mask2]\n",
    "win"
   ]
  },
  {
   "cell_type": "markdown",
   "metadata": {},
   "source": [
    "&#9989; **Question 3.4 (4 points with possible bonus point)**: Now that you have all the jackpot winners since 2013, you're going to make a waffle chart to show how many winners there were for each year. \n",
    "\n",
    "First, **determine the number of winners there were in each year** and store this information in a new Pandas Series, list, or an array (whichever format you prefer). *Hint*: There is a Pandas method can can help you to count the number of winners for each year, but there are other ways to do this as well.\n",
    "\n",
    "Then, **make a waffle chart with 8 rows and 11 columns that shows the number of jackpot winners for each year.** You should be able to do this by exploring the documentation on the PyWaffle website and by reviewing some of the examples. **Make sure your waffle chart has a legend that you know which years correspond to which values**\n",
    "\n",
    "You should get something that looks like this:\n",
    "\n",
    "<img src=\"https://github.com/msu-cmse-courses/cmse202-supplemental-data/blob/main/images/winners_by_year.png?raw=true\" width=400>\n",
    "\n",
    "**Bonus point**: Depending on how you did this, your years might not be sorted in order in the legend. If you can figure out how to sort the legend, you'll get a bonus point!"
   ]
  },
  {
   "cell_type": "code",
   "execution_count": 13,
   "metadata": {},
   "outputs": [
    {
     "data": {
      "text/plain": [
       "33      1\n",
       "72      1\n",
       "92      1\n",
       "103     1\n",
       "137     1\n",
       "       ..\n",
       "1192    3\n",
       "1194    1\n",
       "1208    1\n",
       "1210    1\n",
       "1223    1\n",
       "Name: Jackpot Winners, Length: 88, dtype: int64"
      ]
     },
     "execution_count": 13,
     "metadata": {},
     "output_type": "execute_result"
    }
   ],
   "source": [
    "### Put your code here\n",
    "num = win[\"Jackpot Winners\"]\n",
    "num"
   ]
  },
  {
   "cell_type": "code",
   "execution_count": 14,
   "metadata": {},
   "outputs": [
    {
     "data": {
      "image/png": "[encoded data removed]",
      "text/plain": [
       "<Waffle size 432x288 with 1 Axes>"
      ]
     },
     "execution_count": 14,
     "metadata": {},
     "output_type": "execute_result"
    },
    {
     "data": {
      "image/png": "[encoded data removed]",
      "text/plain": [
       "<Waffle size 432x288 with 1 Axes>"
      ]
     },
     "metadata": {
      "needs_background": "light"
     },
     "output_type": "display_data"
    }
   ],
   "source": [
    "plt.figure(\n",
    "    FigureClass=Waffle,\n",
    "    rows=8,\n",
    "    columns=11,\n",
    "    values=num,\n",
    "    legend={\"loc\": \"upper left\", \"bbox_to_anchor\": (1, 1)}\n",
    ")"
   ]
  },
  {
   "cell_type": "markdown",
   "metadata": {},
   "source": [
    "&#9989; **Question 3.5 (2 points)**: That waffle chart looks pretty cool, but it's not ideal that the colors repeat after the first 8 years. Figure out how to **change the colormap for the waffle chart** and **change it to a new color map so that there are no repeated colors**. Make sure you still **include a legend** so that you know which years correspond to which colors."
   ]
  },
  {
   "cell_type": "code",
   "execution_count": 15,
   "metadata": {},
   "outputs": [],
   "source": [
    "### Put your code here\n"
   ]
  },
  {
   "cell_type": "markdown",
   "metadata": {},
   "source": [
    "&#9989; **Question 3.6 (2 points)**: Finally, **make another modification to the waffle chart that changes the visual appearance and _improves_ the plot in some way**. You can choose to make any sort of modification you want and can use the documentation for PyWaffle to come up with ideas.\n",
    "\n",
    "After you make the modification, **explain why you think it improves the plot in the Markdown cell below**."
   ]
  },
  {
   "cell_type": "code",
   "execution_count": 16,
   "metadata": {},
   "outputs": [
    {
     "ename": "NameError",
     "evalue": "name 'fig' is not defined",
     "output_type": "error",
     "traceback": [
      "\u001b[0;31m---------------------------------------------------------------------------\u001b[0m",
      "\u001b[0;31mNameError\u001b[0m                                 Traceback (most recent call last)",
      "\u001b[0;32m<ipython-input-16-6c43df2c5dcf>\u001b[0m in \u001b[0;36m<module>\u001b[0;34m\u001b[0m\n\u001b[1;32m      7\u001b[0m     \u001b[0mlegend\u001b[0m\u001b[0;34m=\u001b[0m\u001b[0;34m{\u001b[0m\u001b[0;34m\"loc\"\u001b[0m\u001b[0;34m:\u001b[0m \u001b[0;34m\"upper left\"\u001b[0m\u001b[0;34m,\u001b[0m \u001b[0;34m\"bbox_to_anchor\"\u001b[0m\u001b[0;34m:\u001b[0m \u001b[0;34m(\u001b[0m\u001b[0;36m1\u001b[0m\u001b[0;34m,\u001b[0m \u001b[0;36m1\u001b[0m\u001b[0;34m)\u001b[0m\u001b[0;34m}\u001b[0m\u001b[0;34m\u001b[0m\u001b[0;34m\u001b[0m\u001b[0m\n\u001b[1;32m      8\u001b[0m )\n\u001b[0;32m----> 9\u001b[0;31m \u001b[0mfig\u001b[0m\u001b[0;34m.\u001b[0m\u001b[0msavefig\u001b[0m\u001b[0;34m(\u001b[0m\u001b[0;34m\"plot.png\"\u001b[0m\u001b[0;34m,\u001b[0m \u001b[0mbbox_inches\u001b[0m\u001b[0;34m=\u001b[0m\u001b[0;34m\"tight\"\u001b[0m\u001b[0;34m)\u001b[0m\u001b[0;34m\u001b[0m\u001b[0;34m\u001b[0m\u001b[0m\n\u001b[0m",
      "\u001b[0;31mNameError\u001b[0m: name 'fig' is not defined"
     ]
    },
    {
     "data": {
      "image/png": "[encoded data removed]",
      "text/plain": [
       "<Waffle size 432x288 with 1 Axes>"
      ]
     },
     "metadata": {
      "needs_background": "light"
     },
     "output_type": "display_data"
    }
   ],
   "source": [
    "### Put your code here\n",
    "plt.figure(\n",
    "    FigureClass=Waffle,\n",
    "    rows=8,\n",
    "    columns=11,\n",
    "    values=num,\n",
    "    legend={\"loc\": \"upper left\", \"bbox_to_anchor\": (1, 1)}\n",
    ")\n",
    "fig.savefig(\"plot.png\", bbox_inches=\"tight\")"
   ]
  },
  {
   "cell_type": "markdown",
   "metadata": {},
   "source": [
    "<font size=+3>&#9998;</font> I tried to use the tight layout, but it says it was not applied"
   ]
  },
  {
   "cell_type": "markdown",
   "metadata": {},
   "source": [
    "---\n",
    "### &#128721; STOP\n",
    "**Pause to commit your changes to your Git repository!**\n",
    "\n",
    "Take a moment to save your notebook, commit the changes to your Git repository using the commit message \"**Committing Part 3**\", and push the changes to GitHub."
   ]
  },
  {
   "cell_type": "markdown",
   "metadata": {},
   "source": [
    "---\n",
    "## Part 4: Writing and using Python classes (12 points)"
   ]
  },
  {
   "cell_type": "markdown",
   "metadata": {},
   "source": [
    "In this part of the exam, you'll start off with a partially functioning Python class and then you'll modify and add to it.\n",
    "\n",
    "Staying on theme with the exam, the class you'll work with is called `Powerball` and it is currently designed to be able to perform a single Powerball drawing. If you're not familiar with the Powerball lottery. The game involves drawing 5 white balls from a set of 69 balls and then drawing one red \"powerball\" from a set of 26 balls.\n",
    "\n",
    "At the moment, the class sets up two attributes when it is initialized, `white_balls` and `red_ball`, which represent all possible numbers than can be drawn for the normal balls and the powerball. It currently has one method, `draw`, which randomly selects 5 numbers from the white balls and one number from the red balls."
   ]
  },
  {
   "cell_type": "markdown",
   "metadata": {},
   "source": [
    "&#9989; **Make sure you execute the following two cells to ensure that the provided code is working**:"
   ]
  },
  {
   "cell_type": "code",
   "execution_count": 17,
   "metadata": {},
   "outputs": [],
   "source": [
    "import numpy as np\n",
    "\n",
    "class Powerball:\n",
    "    '''\n",
    "    This class is designed to represent a Powerball lottery drawing.\n",
    "    '''\n",
    "\n",
    "    def __init__(self):\n",
    "        '''\n",
    "        Initialize the Powerball drawing with the possible white balls\n",
    "        and possible red ball.\n",
    "        '''\n",
    "        self.white_balls = np.arange(1, 70)\n",
    "        self.red_ball = np.arange(1, 27)\n",
    "        self.jackpot = jackpot\n",
    "\n",
    "    def draw(self):\n",
    "        '''\n",
    "        Draw a set of five white balls and one red ball from the set of\n",
    "        possible balls.\n",
    "        '''\n",
    "        five_balls = np.random.choice(self.white_balls, 5)\n",
    "        red_ball = np.random.choice(self.red_ball)\n",
    "        return five_balls, red_ball\n",
    "    \n",
    "    def calculate_cash_payout(self):\n",
    "        '''\n",
    "        Calculate the payout of the jackpot for the winners\n",
    "        '''\n",
    "        payout = jackpot*.46\n",
    "        \n",
    "        \n",
    "    def draw_winning_numbers(self):\n",
    "        '''\n",
    "        Draw the winning numbers\n",
    "        '''\n",
    "        winning_numbers = draw(self)\n",
    "        \n",
    "        \n",
    "    def check_numbers(self):\n",
    "        '''\n",
    "        Check if the numbers are the winning ones\n",
    "        '''\n",
    "        numbers = draw(self)\n",
    "        if numbers == winning_numbers:\n",
    "            return True\n",
    "        else:\n",
    "            return False\n",
    "        "
   ]
  },
  {
   "cell_type": "code",
   "execution_count": null,
   "metadata": {},
   "outputs": [],
   "source": [
    "# This tests the Powerball class and the `draw` method\n",
    "powerball = Powerball()\n",
    "whites, red = powerball.draw()\n",
    "print(\"Normal balls:\", whites)\n",
    "print(\"Powerball:\", red)"
   ]
  },
  {
   "cell_type": "markdown",
   "metadata": {},
   "source": [
    "**Before moving on to your modifications of this class, review the following note and testing code:**\n",
    "\n",
    "The original writer of the class was worried that it might be possible to draw the same number twice for the white balls. To look for this they wrote the following test, included in the cell below. **Run the test below and look at the output.** You'll be asked to fix this issue when you begin modifying the class."
   ]
  },
  {
   "cell_type": "code",
   "execution_count": null,
   "metadata": {},
   "outputs": [],
   "source": [
    "def check_for_dupes():\n",
    "    for i in range(100):\n",
    "        five_balls, red_ball = powerball.draw()\n",
    "        unique_balls = np.unique(five_balls)\n",
    "        if len(unique_balls) != 5:\n",
    "            print(\"Duplicate balls found!\")\n",
    "            print(five_balls)\n",
    "            return True\n",
    "dupes = check_for_dupes()\n"
   ]
  },
  {
   "cell_type": "markdown",
   "metadata": {},
   "source": [
    "### Enhancing the Powerball class\n",
    "\n",
    "&#9989; **Question 4.1 (12 points)**: A copy of the original class is provided below. Modify this version of the Powerball class to achieve the following:\n",
    "\n",
    "1. Fix the issue that the original author noticed in which two (or more) of the same white ball are drawn (see the result of the above test). There's more than one way to do this. Pursue the approach that makes the most sense to you.\n",
    "2. Add a new attribute to the class called `jackpot`. This value should be set when the class is initialized using a value provided by the user and should be set to `None` by default so that if a value is not specified, a Powerball object can still be created.\n",
    "3. Add a new method called `calculate_cash_payout` that uses the `jackpot` attribute to calculate what the cash payout would be if someone wins that jackpot. The cash payout is 46% of the jackpot value. Set a default argument for this method that sets the fraction of the cash payout to be `0.46`. This method should return the cash payout value (which is the jackpot value times the fraction of the cash payout).\n",
    "4. Right now the white balls do not come out sorted, which is not ideal. Modify the `draw` method to change this so the white balls are sorted in ascending order before they are returned.\n",
    "5. Add a new method called `draw_winning_numbers` that uses the `draw` method to draw a set of winning numbers and stores the result as two new attributes `winning_whites` which should be an array of the 5 white balls and `winning_red` which should be the red ball. This method does not need to return anything.\n",
    "6. Add a new method called `check_numbers` that takes in a list of 5 white balls and a red ball and checks to see if the numbers match the winning numbers (which you should now have as attributes in your class). If they do, it should return `True`, otherwise it should return `False`."
   ]
  },
  {
   "cell_type": "code",
   "execution_count": null,
   "metadata": {},
   "outputs": [],
   "source": [
    "### Modify the Powerball class based on the directions above\n",
    "class Powerball:\n",
    "    '''\n",
    "    This class is designed to represent a Powerball lottery drawing.\n",
    "    '''\n",
    "\n",
    "    def __init__(self):\n",
    "        '''\n",
    "        Initialize the Powerball drawing with the possible white balls\n",
    "        and possible red ball.\n",
    "        '''\n",
    "        self.white_balls = np.arange(1, 70)\n",
    "        self.red_ball = np.arange(1, 27)\n",
    "\n",
    "    def draw(self):\n",
    "        '''\n",
    "        Draw a set of five white balls and one red ball from the set of\n",
    "        possible balls.\n",
    "        '''\n",
    "        five_balls = np.random.choice(self.white_balls, 5)\n",
    "        red_ball = np.random.choice(self.red_ball)\n",
    "        return five_balls, red_ball"
   ]
  },
  {
   "cell_type": "markdown",
   "metadata": {},
   "source": [
    "#### Testing your code\n",
    "\n",
    "As you work on your code, you can test it by running the following cell.  If your code is correct, you should see the following output:\n",
    "\n",
    "```\n",
    "Normal balls: [ 9 41 47 48 60] (this one will be different for you because it's random)\n",
    "Powerball: 20 (this one will be different for you because it's random)\n",
    "No duplicates found!\n",
    "The jackpot is $2500000\n",
    "The cash payout is $1150000\n",
    "The cash payout is $1875000\n",
    "The winning numbers are: [ 5 11 14 47 67] 22\n",
    "Sorry, you did not win the jackpot.\n",
    "Congratulations, you won the jackpot!\n",
    "```"
   ]
  },
  {
   "cell_type": "code",
   "execution_count": null,
   "metadata": {},
   "outputs": [],
   "source": [
    "powerball = Powerball()\n",
    "whites, red = powerball.draw()\n",
    "print(\"Normal balls:\", whites)\n",
    "print(\"Powerball:\", red)\n",
    "\n",
    "dupes = check_for_dupes()\n",
    "if not dupes: print(\"No duplicates found!\")\n",
    "\n",
    "np.random.seed(202)\n",
    "powerball_with_jackpot = Powerball(jackpot=2.5e6)\n",
    "whites, red = powerball_with_jackpot.draw()\n",
    "\n",
    "print(\"The jackpot is $%0.0f\" %powerball_with_jackpot.jackpot)\n",
    "print(\"The cash payout is $%0.0f\" %powerball_with_jackpot.calculate_cash_payout())\n",
    "print(\"The cash payout is $%0.0f\" %powerball_with_jackpot.calculate_cash_payout(percent=0.75))\n",
    "\n",
    "powerball_with_jackpot.draw_winning_numbers()\n",
    "print(\"The winning numbers are:\", powerball_with_jackpot.winning_whites, powerball_with_jackpot.winning_red)\n",
    "if not powerball_with_jackpot.check_numbers(whites, red):\n",
    "    print(\"Sorry, you did not win the jackpot.\")\n",
    "if powerball_with_jackpot.check_numbers(powerball_with_jackpot.winning_whites, powerball_with_jackpot.winning_red):\n",
    "    print(\"Congratulations, you won the jackpot!\")"
   ]
  },
  {
   "cell_type": "markdown",
   "metadata": {},
   "source": [
    "---\n",
    "### &#128721; STOP\n",
    "**Pause to commit your changes to your Git repository!**\n",
    "\n",
    "Take a moment to save your notebook, commit the changes to your Git repository using the commit message \"**Committing Part 4**\", and push the changes to GitHub.\n",
    "\n",
    "---"
   ]
  },
  {
   "cell_type": "markdown",
   "metadata": {},
   "source": [
    "## You're done! Congrats on finishing your CMSE 202 Midterm!\n",
    "\n",
    "Make sure all of your changes to your repository are committed and pushed to GitHub. Also upload a copy of this notebook to the dropbox on D2L in case something went wrong with your repository or if you couldn't get the repository to work."
   ]
  },
  {
   "cell_type": "markdown",
   "metadata": {},
   "source": [
    "---\n",
    "---\n",
    "## Back-up data for if you get stuck on Questions 2.3 or 2.6 or need it for Part 3\n",
    "\n",
    "You can grab a reduced version of the dataset that contains the datetime and year columns:\n",
    "\n",
    "`https://raw.githubusercontent.com/msu-cmse-courses/cmse202-supplemental-data/main/data/powerball_reduced.csv`\n",
    "\n",
    "(or grab it from D2L, if you're not sure how to download it from the above link)\n",
    "\n",
    "Then you can run the following cell to get a dataframe with the datetime and year columns:"
   ]
  },
  {
   "cell_type": "code",
   "execution_count": null,
   "metadata": {},
   "outputs": [],
   "source": [
    "powerball_reduced = pd.read_csv(\"powerball_reduced.csv\",parse_dates=[9])\n",
    "powerball_reduced"
   ]
  },
  {
   "cell_type": "markdown",
   "metadata": {},
   "source": [
    "Good luck with the rest of the exam!"
   ]
  }
 ],
 "metadata": {
  "kernelspec": {
   "display_name": "Python 3.8",
   "language": "python",
   "name": "python3"
  },
  "language_info": {
   "codemirror_mode": {
    "name": "ipython",
    "version": 3
   },
   "file_extension": ".py",
   "mimetype": "text/x-python",
   "name": "python",
   "nbconvert_exporter": "python",
   "pygments_lexer": "ipython3",
   "version": "3.8.8"
  }
 },
 "nbformat": 4,
 "nbformat_minor": 4
}
